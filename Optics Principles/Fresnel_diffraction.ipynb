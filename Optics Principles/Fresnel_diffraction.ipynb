{
 "cells": [
  {
   "cell_type": "markdown",
   "id": "ecfd18e7-9af6-4e54-b0eb-0bc3999d25e5",
   "metadata": {},
   "source": [
    "\n",
    "# Fresnel Diffraction: The Free Propogation of a Spherical Wave\n",
    "\n",
    "Franhaufer configuration has a relatively small diffracting system with a distant point of observation. This setup remedies problematic features of the Huygens-Fresnel Principle. The *near-field* region which extends up to the diffracting element itself so any approximations in this region would be inappropriate. Here we re-examine the Huygens-Fresnel principle more closely. \n",
    "\n",
    "## The Principle\n",
    "\n",
    "At any instant, every point on the primary wavefront is envisioned as a continuous emitter of spherical secondary wavelets. If each wavelet radieted uniformly in all directions, in additoin to generating an ongiong wave, there would be dalso be a reverse wave traveling back toward the source. No such wave is found experimentally, so we must somehow modify the radiation pattern of the secondary emitters. \n",
    "\n",
    "We introduce the function $ K( \\theta ) $, the *obliquity* or *inclination factor*, to describe the directionality of the secondary emissions. *Fresnel* recognized the need to intruduce a quantity of this kind, but he did little more than conjecture about this form. The more analytic Kirchoff formulation provies an expression for $ K( \\theta ), which turns out to be \n",
    "\n",
    "$$ K( \\theta ) = \\frac{1}{2} ( 1 + \\cos \\theta ) $$ \n",
    "\n",
    "You should notice this is a Cardioid. The anlge $ \\theta $ is made with the normal to the primary wavefront $ \\vec{k} $. Take note that\n",
    "\n",
    "$$ \\max_{\\theta} K = 1 \\text{, when } \\theta = 0, $$\n",
    "$$ \\min_{\\theta} K = 0 \\text{, when } \\theta = \\pi. $$\n"
   ]
  },
  {
   "cell_type": "markdown",
   "id": "76fe4a16-d3bb-4fa6-a91a-69b6dfdc38ba",
   "metadata": {},
   "source": [
    "\n",
    "Examine free propogation of a spherical monochromatic wave emitted from a point source $S$. Provided the H-F principle is correct, we should be able to add up the secondary wavelets arriving at a point $P$ and thus obtain the unobstructed primary wave. \n"
   ]
  },
  {
   "cell_type": "markdown",
   "id": "729bd286-f2aa-44ae-ad00-55c3d41bce9d",
   "metadata": {},
   "source": [
    "\n",
    "## Free Propogation of a Spherical Wave\n",
    "\n",
    "A rudiment of interference is that half-integral wavelength differences in path length result in destructive interference. The primary wavefront at some time $ t' $ is a spherical shell; it was emtitted at time $ t $ from the source $ S $. \n",
    "\n",
    "The disturbance of radius $ \\rho $ can be represented by any expression for a harmonic spherical wave. Sometimes the wave is represented using holomorphisms but here we use real numbers. For example, \n",
    "\n",
    "$$ E = \\frac{ \\mathbf{\\varepsilon _0 }}{ \\rho } \\cos( \\omega t' - k \\rho ) $$\n",
    "\n",
    "The wavefront is divided into several annular regions centered along $\\overline{P S}$. Boundaries of these annuli correspond to intersections of the wavefron nwith a series of spheres centered at $ P $ of radius $ r_0 + \\frac{\\lambda}{2} $, $ r_0 + \\lambda $, $ r_0 + \\frac{3\\lambda}{2} $, and so forth. These integral values are *Fresnel zones* or *half-period zones*. \n",
    "\n",
    "For a secondary wave point in a given zone, there is a point source in the adjacent zone that is farther from $ P $ by the distance $ \\frac{ \\lambda }{ 2 } $. \n",
    "\n",
    "Each annulus is very small but finite in extent so define $ dS $. This is a region wherein all source points are coherent and each radiates in-phase with the primary wave (the harmonic). \n",
    "\n",
    "The secondary wavelents travel a distance$ r $ to reach $ P $, at a time $ t $, all arriving there with the same phase, namely $ \\omega t - k( \\rho + r ) $. The amplitude of the primary wave at a distance $ \\rho $ from $ S $ is $ \\frac{ \\mathbf{\\varepsilon _0 }}{ \\rho }$. \n",
    "\n",
    "We accordingly use the form $ \\mathbf{\\varepsilon _A} = Q \\frac{ \\mathbf{\\varepsilon _0 }}{ \\rho } $ for the strength per unit area of the secondary emitters on $ dS $ so $ Q $ is a constant of proportionality. \n",
    "\n",
    "Generally, the contribution to the optical disturbance at point $ P $ from the secondary sources on $ dS $ is therefore\n",
    "\n",
    "$$ dE = K \\frac{\\mathbf{\\varepsilon _A }}{r} \\cos [\\omega t - k(\\rho + r)] dS $$\n",
    "\n",
    "Obliquity $ K $ must vary slowly and may be assumed to be constant over a single Fresnel zone. To obtain $ dS $ as a function of $ r $, begin with the identity \n",
    "\n",
    "$$ dS = \\rho \\cdot d\\varphi \\cdot 2\\pi \\cdot (\\rho \\sin \\varphi ) $$. \n",
    "\n",
    "Then apply the Law of Cosines to the geometric figure for the the spherical wavefronts: \n",
    "\n",
    "$$ r^2 = \\rho^2 + ( \\rho + r_0 )^2 - 2 \\rho ( \\rho + r_0 ) \\cos \\varphi $$\n",
    "\n",
    "which upon differentiation yields \n",
    "\n",
    "$$ 2r \\cdot dr = 2 \\rho ( \\rho + r_0 ) \\sin \\varphi d \\varphi $$\n",
    "\n",
    "with $ \\rho $ and $ r_0 $ held constant. Substituting the differentiated identity equation into the law of cosines, the author obtains\n",
    "\n",
    "$$ dS = 2 \\pi \\frac{ \\rho }{ ( \\rho + r_0 ) } r \\cdot dr. $$ \n",
    "\n",
    "The disturbance arriving at $ P $ from the $ l $th zone is \n",
    "\n",
    "$$ E_l = K_l 2 \\pi \\frac{\\mathbf{\\varepsilon_A} \\rho}{ ( \\rho + r_0 )} \\int_{r_{l-1}}^{r_l} \\cos[\\omega t - k(\\rho + r)] dr, $$ \n",
    "\n",
    "hence \n",
    "\n",
    "$$ E_l = \\frac{ -K_l \\mathbf{\\varepsilon_A} \\rho \\lambda }{ (\\rho + r_0) } [ \\sin(\\omega t - k \\rho - k r)]_{r = r_{l-1}}^{r = r_l}. $$\n",
    "\n",
    "Now the substitution of interference $ r_{l-1} = r_0 + (l-1) \\frac{\\lambda}{2} $ and $ r_l = r_0 + l \\frac{\\lambda}{2} $ makes the expression reduce to \n",
    "\n",
    "$$ E_l = (-1)^{l+1} \\frac{2 K_l \\mathbf{\\varepsilon}_A \\rho \\lambda }{ ( \\rho + r_0 )} \\sin[ \\omega t - k (\\rho + r_0)]. $$\n",
    "\n",
    "First, note that amplitude $ E_l $ alternates between positive and negative values depending on whether $ l $ is odd or even. Contributions from adjacent zones are out-of-phase and tend to cancel. It is here that the obliquity factor makes a crucial difference. As $l$ increases, $\\theta$ increases and $K$ decreases, so that successive contributions do not in fact completely cancel each other. It is interesting that $ \\frac{E_l}{K_l}$ is independent of any position variables. The areas of each zone are almost equal. They increase slightly as $l$ increases, which means an increased number of emitters. The average distance from each zone to $P$ also increases, such that $ \\frac{E_l}{K_l}$ remains constant. "
   ]
  },
  {
   "cell_type": "code",
   "execution_count": null,
   "id": "74c44038-5c37-47ca-b39d-6ed095f0aaa6",
   "metadata": {},
   "outputs": [],
   "source": []
  }
 ],
 "metadata": {
  "kernelspec": {
   "display_name": "Python 3 (ipykernel)",
   "language": "python",
   "name": "python3"
  },
  "language_info": {
   "codemirror_mode": {
    "name": "ipython",
    "version": 3
   },
   "file_extension": ".py",
   "mimetype": "text/x-python",
   "name": "python",
   "nbconvert_exporter": "python",
   "pygments_lexer": "ipython3",
   "version": "3.11.7"
  }
 },
 "nbformat": 4,
 "nbformat_minor": 5
}
