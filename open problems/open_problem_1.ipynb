{
 "cells": [
  {
   "cell_type": "markdown",
   "id": "56cef949-f9c4-4381-94e0-94d263c9d0c0",
   "metadata": {},
   "source": [
    "# SIAM Special Functions: Open Problem \n",
    "An open problem in transcendental function theory is to express the summation\n",
    "\n",
    "$$ f(x, \\alpha) = \\sum_{n=1}^{\\infty} \\frac{x^n}{n!} \\ln(n + \\alpha) \\hspace{1.5cm} x, \\alpha \\in \\mathbb{R} $$\n",
    "\n",
    "in terms of known functions and constants (e.g. Gamma, Zeta, polylog, etc.). \n",
    "\n",
    "## Convergence\n",
    "\n",
    "The ratio test from Analysis defines the $n^{\\text{th}}$ term in the series\n",
    "\n",
    "$$ a_n = \\frac{x^n}{n!} \\ln(n + \\alpha) $$\n",
    "\n",
    "so that\n",
    "\n",
    "$$ \\lim_{n \\rightarrow \\infty} \\left| \\frac{a_{n+1}}{a_n} \\right| = \\lim \\left| \\frac{x^{n+1} \\ln(n+1+\\alpha)}{(n+1)!} \\cdot \\frac{n!}{x^n \\ln(n+\\alpha)} \\right| = \\lim \\left| \\frac{x \\ln(n + 1 + \\alpha)}{n + 1} \\cdot \\frac{1}{\\ln (n + \\alpha)} \\right| $$\n",
    "\n",
    "and since $ \\ln(n + 1 + \\alpha) \\sim \\ln(n + \\alpha) $ we have\n",
    "\n",
    "$$ \\lim \\left| \\frac{a_{n+1}}{a_n} \\right| = 0 \\hspace{2cm} $$\n",
    "\n",
    "and the series must converge. $\\blacksquare$"
   ]
  },
  {
   "cell_type": "code",
   "execution_count": null,
   "id": "fc2bd5ae-d0d1-4ea4-b109-0dc623c36867",
   "metadata": {},
   "outputs": [],
   "source": [
    "\n",
    "\n"
   ]
  }
 ],
 "metadata": {
  "kernelspec": {
   "display_name": "Python 3 (ipykernel)",
   "language": "python",
   "name": "python3"
  },
  "language_info": {
   "codemirror_mode": {
    "name": "ipython",
    "version": 3
   },
   "file_extension": ".py",
   "mimetype": "text/x-python",
   "name": "python",
   "nbconvert_exporter": "python",
   "pygments_lexer": "ipython3",
   "version": "3.11.7"
  }
 },
 "nbformat": 4,
 "nbformat_minor": 5
}
