{
 "cells": [
  {
   "cell_type": "markdown",
   "id": "56cef949-f9c4-4381-94e0-94d263c9d0c0",
   "metadata": {},
   "source": [
    "# SIAM Special Functions: Open Problem \n",
    "An open problem in transcendental function theory is to express the summation\n",
    "\n",
    "$$ f_\\alpha (x) = \\sum_{n=1}^{\\infty} \\frac{x^n}{n!} \\ln(n + \\alpha) \\hspace{1.5cm} x, \\alpha \\in \\mathbb{R} $$\n",
    "\n",
    "in terms of known functions and constants (e.g. Gamma, Zeta, polylog, etc.). \n",
    "\n",
    "## Convergence\n",
    "\n",
    "The ratio test from Analysis defines the $n^{\\text{th}}$ term in the series\n",
    "\n",
    "$$ a_n = \\frac{x^n}{n!} \\ln(n + \\alpha) $$\n",
    "\n",
    "so that\n",
    "\n",
    "$$ \\lim_{n \\rightarrow \\infty} \\left| \\frac{a_{n+1}}{a_n} \\right| = \\lim \\left| \\frac{x^{n+1} \\ln(n+1+\\alpha)}{(n+1)!} \\cdot \\frac{n!}{x^n \\ln(n+\\alpha)} \\right| = \\lim \\left| \\frac{x \\ln(n + 1 + \\alpha)}{n + 1} \\cdot \\frac{1}{\\ln (n + \\alpha)} \\right| $$\n",
    "\n",
    "and since $ \\ln(n + 1 + \\alpha) \\sim \\ln(n + \\alpha) $ we have\n",
    "\n",
    "$$ \\lim \\left| \\frac{a_{n+1}}{a_n} \\right| = 0 \\hspace{2cm} $$\n",
    "\n",
    "and the series must converge. $\\blacksquare$"
   ]
  },
  {
   "cell_type": "markdown",
   "id": "68467af3-e6b1-4c05-8ce4-54183811e5bd",
   "metadata": {},
   "source": [
    "\n",
    "## Generating Function\n",
    "\n",
    "The case \n",
    "\n",
    "$$ f_0(x) = \\sum_{n=1}^{\\infty} \\frac{x^n}{n!} \\ln(n) $$\n",
    "\n",
    "also has no known closed form. To write in terms of power functions only, define $ f_0 (x) $ as the derivative of a Dirichlet-type generating function \n",
    "\n",
    "$$ f_0(x) = - \\left. \\frac{d}{ds} \\sum_{n=1}^{\\infty} \\frac{x^n}{n!} n^{-s} \\right|_{s=0} $$\n",
    "\n",
    "where the genrating function $ \\Phi_s $ is \n",
    "\n",
    "$$ \\Phi_s = \\sum_{n=1}^{\\infty} \\frac{x^n}{n!} n^{-s} = 1^{\\infty} \\frac{x^n}{n!} n^{-s} $$\n",
    "\n",
    "so the special case $ \\alpha = 0 $ in terms of $ \\Phi_s $ is written \n",
    "\n",
    "$$ f_0(x) = - \\left. \\frac{d}{ds} \\Phi_s(x) \\right|_{s=0}. $$\n"
   ]
  },
  {
   "cell_type": "markdown",
   "id": "7ad1339f-6c0c-4acb-af32-38dd0ac41538",
   "metadata": {},
   "source": [
    "\n",
    "## Existence by Integral Representation\n",
    "\n",
    "Now starting with the generating function $ \\Phi_s(x) $ with $ \\Re(s) > 0 $, the Mellin transform of the exponential $ n^{-s} $ which is \n",
    "\n",
    "$$ n^{-s} = \\frac{1}{\\Gamma(s)} \\int_0^{\\infty} t^{s-1} e^{-nt} dt $$\n",
    "\n",
    "is substituted into the sum $ f_0(x) $ to obtain \n",
    "\n",
    "$$ \\Phi_s(x) = \\sum_{i=1}^{\\infty} \\frac{x^n}{n!} \\frac{1}{\\Gamma(s)} \\int_0^{\\infty} t^{s-1} e^{-nt} dt. $$\n",
    "\n",
    "Switching the order of the sum and integral, see that\n",
    "\n",
    "$$ \\Phi_s (x) = \\frac{1}{\\Gamma(s)} \\int_{0}^{\\infty} t^{s-1} \\left(\\sum_{n=1}^{\\infty} \\frac{(x e^{-t})^n}{n!} \\right) dt. $$\n",
    "\n",
    "Notice the Taylor series $ \\sum_{n=1}^{\\infty} \\frac{(xe^{-t})^n}{n!} = e^{xe^{-t}} - 1 $ for an exponential to make the substitution\n",
    "\n",
    "$$ \\Phi_s(x) = \\frac{1}{\\Gamma(s)} \\int_{0}^{\\infty} t^{s-1} (e^{xe^{-t}})dt. $$\n",
    "\n",
    "The integrand is entire in $ x $ and analytic in $ s $ for small $ s $. Thus the integral defines an analytic function in $ s $ near $ 0 $ so the derivative exists and can be evaluated thus a closed form exists. $\\blacksquare$"
   ]
  },
  {
   "cell_type": "code",
   "execution_count": null,
   "id": "ed196e0d-5b3a-4f94-824f-88d302ecf5b4",
   "metadata": {},
   "outputs": [],
   "source": []
  }
 ],
 "metadata": {
  "kernelspec": {
   "display_name": "Python 3 (ipykernel)",
   "language": "python",
   "name": "python3"
  },
  "language_info": {
   "codemirror_mode": {
    "name": "ipython",
    "version": 3
   },
   "file_extension": ".py",
   "mimetype": "text/x-python",
   "name": "python",
   "nbconvert_exporter": "python",
   "pygments_lexer": "ipython3",
   "version": "3.11.7"
  }
 },
 "nbformat": 4,
 "nbformat_minor": 5
}
