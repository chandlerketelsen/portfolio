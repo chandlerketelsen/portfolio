{
 "cells": [
  {
   "cell_type": "markdown",
   "id": "56cef949-f9c4-4381-94e0-94d263c9d0c0",
   "metadata": {},
   "source": [
    "# SIAM Special Functions: Open Problem \n",
    "An open problem in transcendental function theory is to express the summation\n",
    "\n",
    "$$ f_\\alpha (x) = \\sum_{n=1}^{\\infty} \\frac{x^n}{n!} \\ln(n + \\alpha) \\hspace{1.5cm} x, \\alpha \\in \\mathbb{R} $$\n",
    "\n",
    "in terms of known functions and constants (e.g. Gamma, Zeta, polylog, etc.). \n",
    "\n",
    "## Convergence\n",
    "\n",
    "The ratio test from Analysis defines the $n^{\\text{th}}$ term in the series\n",
    "\n",
    "$$ a_n = \\frac{x^n}{n!} \\ln(n + \\alpha) $$\n",
    "\n",
    "so that\n",
    "\n",
    "$$ \\lim_{n \\rightarrow \\infty} \\left| \\frac{a_{n+1}}{a_n} \\right| = \\lim \\left| \\frac{x^{n+1} \\ln(n+1+\\alpha)}{(n+1)!} \\cdot \\frac{n!}{x^n \\ln(n+\\alpha)} \\right| = \\lim \\left| \\frac{x \\ln(n + 1 + \\alpha)}{n + 1} \\cdot \\frac{1}{\\ln (n + \\alpha)} \\right| $$\n",
    "\n",
    "and since $ \\ln(n + 1 + \\alpha) \\sim \\ln(n + \\alpha) $ we have\n",
    "\n",
    "$$ \\lim \\left| \\frac{a_{n+1}}{a_n} \\right| = 0 \\hspace{2cm} $$\n",
    "\n",
    "and the series must converge. $\\blacksquare$"
   ]
  },
  {
   "cell_type": "markdown",
   "id": "68467af3-e6b1-4c05-8ce4-54183811e5bd",
   "metadata": {},
   "source": [
    "\n",
    "## Generating Function\n",
    "\n",
    "The case \n",
    "\n",
    "$$ f_0(x) = \\sum_{n=1}^{\\infty} \\frac{x^n}{n!} \\ln(n) $$\n",
    "\n",
    "also has no known closed form. To write in terms of power functions only, define $ f_0 (x) $ as the derivative of a Dirichlet-type generating function \n",
    "\n",
    "$$ f_0(x) = - \\left. \\frac{d}{ds} \\sum_{n=1}^{\\infty} \\frac{x^n}{n!} n^{-s} \\right|_{s=0} $$\n",
    "\n",
    "where the genrating function $ \\Phi_s $ is \n",
    "\n",
    "$$ \\Phi_s = \\sum_{n=1}^{\\infty} \\frac{x^n}{n!} n^{-s} $$\n",
    "\n",
    "so the special case $ \\alpha = 0 $ in terms of $ \\Phi_s $ is written \n",
    "\n",
    "$$ f_0(x) = - \\left. \\frac{d}{ds} \\Phi_s(x) \\right|_{s=0}. $$\n"
   ]
  },
  {
   "cell_type": "code",
   "execution_count": null,
   "id": "d40303dd-9249-4627-995c-c63ed7c08148",
   "metadata": {},
   "outputs": [],
   "source": []
  },
  {
   "cell_type": "code",
   "execution_count": null,
   "id": "914125ba-0394-45cb-b605-25006355812b",
   "metadata": {},
   "outputs": [],
   "source": []
  }
 ],
 "metadata": {
  "kernelspec": {
   "display_name": "Python 3 (ipykernel)",
   "language": "python",
   "name": "python3"
  },
  "language_info": {
   "codemirror_mode": {
    "name": "ipython",
    "version": 3
   },
   "file_extension": ".py",
   "mimetype": "text/x-python",
   "name": "python",
   "nbconvert_exporter": "python",
   "pygments_lexer": "ipython3",
   "version": "3.11.7"
  }
 },
 "nbformat": 4,
 "nbformat_minor": 5
}
