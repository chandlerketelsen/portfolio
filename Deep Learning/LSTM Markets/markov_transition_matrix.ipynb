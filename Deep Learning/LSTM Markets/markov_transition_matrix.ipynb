{
 "cells": [
  {
   "cell_type": "code",
   "execution_count": 57,
   "id": "b1cce877-f0d0-40fa-907c-003a1111bdf5",
   "metadata": {},
   "outputs": [],
   "source": [
    "\n",
    "import yfinance as yf\n",
    "import numpy as np\n",
    "import pandas as pd\n"
   ]
  },
  {
   "cell_type": "code",
   "execution_count": 58,
   "id": "00ad4959-ab68-434d-a7aa-8462e847dfe6",
   "metadata": {},
   "outputs": [
    {
     "name": "stderr",
     "output_type": "stream",
     "text": [
      "[*********************100%***********************]  1 of 1 completed\n",
      "\n",
      "1 Failed download:\n",
      "['RGTI']: YFRateLimitError('Too Many Requests. Rate limited. Try after a while.')\n"
     ]
    }
   ],
   "source": [
    "\n",
    "data = yf.download('RGTI', start='2025-04-11', end='2025-04-28')\n"
   ]
  },
  {
   "cell_type": "code",
   "execution_count": 56,
   "id": "28b61190-1614-4023-9e20-5f411795cdef",
   "metadata": {},
   "outputs": [
    {
     "data": {
      "text/html": [
       "<div>\n",
       "<style scoped>\n",
       "    .dataframe tbody tr th:only-of-type {\n",
       "        vertical-align: middle;\n",
       "    }\n",
       "\n",
       "    .dataframe tbody tr th {\n",
       "        vertical-align: top;\n",
       "    }\n",
       "\n",
       "    .dataframe thead tr th {\n",
       "        text-align: left;\n",
       "    }\n",
       "\n",
       "    .dataframe thead tr:last-of-type th {\n",
       "        text-align: right;\n",
       "    }\n",
       "</style>\n",
       "<table border=\"1\" class=\"dataframe\">\n",
       "  <thead>\n",
       "    <tr>\n",
       "      <th>Price</th>\n",
       "      <th>Adj Close</th>\n",
       "      <th>Close</th>\n",
       "      <th>High</th>\n",
       "      <th>Low</th>\n",
       "      <th>Open</th>\n",
       "      <th>Volume</th>\n",
       "    </tr>\n",
       "    <tr>\n",
       "      <th>Ticker</th>\n",
       "      <th>RGTI</th>\n",
       "      <th>RGTI</th>\n",
       "      <th>RGTI</th>\n",
       "      <th>RGTI</th>\n",
       "      <th>RGTI</th>\n",
       "      <th>RGTI</th>\n",
       "    </tr>\n",
       "    <tr>\n",
       "      <th>Date</th>\n",
       "      <th></th>\n",
       "      <th></th>\n",
       "      <th></th>\n",
       "      <th></th>\n",
       "      <th></th>\n",
       "      <th></th>\n",
       "    </tr>\n",
       "  </thead>\n",
       "  <tbody>\n",
       "  </tbody>\n",
       "</table>\n",
       "</div>"
      ],
      "text/plain": [
       "Empty DataFrame\n",
       "Columns: [(Adj Close, RGTI), (Close, RGTI), (High, RGTI), (Low, RGTI), (Open, RGTI), (Volume, RGTI)]\n",
       "Index: []"
      ]
     },
     "execution_count": 56,
     "metadata": {},
     "output_type": "execute_result"
    }
   ],
   "source": [
    "\n",
    "data\n"
   ]
  },
  {
   "cell_type": "code",
   "execution_count": 29,
   "id": "9b9351b4-85cd-4e55-9e72-d4c37bfbf703",
   "metadata": {},
   "outputs": [],
   "source": [
    "\n",
    "data[\"daily_return\"] = data[\"Close\"].pct_change()\n",
    "data[\"state\"] = np.where(data[\"daily_return\"] >= 0, \"up\", \"down\")\n"
   ]
  },
  {
   "cell_type": "code",
   "execution_count": 30,
   "id": "a2f54193-b54f-48b8-baaa-300416474418",
   "metadata": {},
   "outputs": [
    {
     "data": {
      "text/html": [
       "<div>\n",
       "<style scoped>\n",
       "    .dataframe tbody tr th:only-of-type {\n",
       "        vertical-align: middle;\n",
       "    }\n",
       "\n",
       "    .dataframe tbody tr th {\n",
       "        vertical-align: top;\n",
       "    }\n",
       "\n",
       "    .dataframe thead tr th {\n",
       "        text-align: left;\n",
       "    }\n",
       "\n",
       "    .dataframe thead tr:last-of-type th {\n",
       "        text-align: right;\n",
       "    }\n",
       "</style>\n",
       "<table border=\"1\" class=\"dataframe\">\n",
       "  <thead>\n",
       "    <tr>\n",
       "      <th>Price</th>\n",
       "      <th>Close</th>\n",
       "      <th>High</th>\n",
       "      <th>Low</th>\n",
       "      <th>Open</th>\n",
       "      <th>Volume</th>\n",
       "      <th>daily_return</th>\n",
       "      <th>state</th>\n",
       "    </tr>\n",
       "    <tr>\n",
       "      <th>Ticker</th>\n",
       "      <th>SPY</th>\n",
       "      <th>SPY</th>\n",
       "      <th>SPY</th>\n",
       "      <th>SPY</th>\n",
       "      <th>SPY</th>\n",
       "      <th></th>\n",
       "      <th></th>\n",
       "    </tr>\n",
       "    <tr>\n",
       "      <th>Date</th>\n",
       "      <th></th>\n",
       "      <th></th>\n",
       "      <th></th>\n",
       "      <th></th>\n",
       "      <th></th>\n",
       "      <th></th>\n",
       "      <th></th>\n",
       "    </tr>\n",
       "  </thead>\n",
       "  <tbody>\n",
       "    <tr>\n",
       "      <th>2010-01-04</th>\n",
       "      <td>85.768448</td>\n",
       "      <td>85.813854</td>\n",
       "      <td>84.391067</td>\n",
       "      <td>85.041918</td>\n",
       "      <td>118944600</td>\n",
       "      <td>NaN</td>\n",
       "      <td>down</td>\n",
       "    </tr>\n",
       "    <tr>\n",
       "      <th>2010-01-05</th>\n",
       "      <td>85.995445</td>\n",
       "      <td>86.033288</td>\n",
       "      <td>85.405140</td>\n",
       "      <td>85.715432</td>\n",
       "      <td>111579900</td>\n",
       "      <td>0.002647</td>\n",
       "      <td>up</td>\n",
       "    </tr>\n",
       "    <tr>\n",
       "      <th>2010-01-06</th>\n",
       "      <td>86.056030</td>\n",
       "      <td>86.267934</td>\n",
       "      <td>85.844126</td>\n",
       "      <td>85.912236</td>\n",
       "      <td>116074400</td>\n",
       "      <td>0.000705</td>\n",
       "      <td>up</td>\n",
       "    </tr>\n",
       "    <tr>\n",
       "      <th>2010-01-07</th>\n",
       "      <td>86.419281</td>\n",
       "      <td>86.525233</td>\n",
       "      <td>85.654909</td>\n",
       "      <td>85.897085</td>\n",
       "      <td>131091100</td>\n",
       "      <td>0.004221</td>\n",
       "      <td>up</td>\n",
       "    </tr>\n",
       "    <tr>\n",
       "      <th>2010-01-08</th>\n",
       "      <td>86.706863</td>\n",
       "      <td>86.744706</td>\n",
       "      <td>86.018176</td>\n",
       "      <td>86.192237</td>\n",
       "      <td>126402800</td>\n",
       "      <td>0.003328</td>\n",
       "      <td>up</td>\n",
       "    </tr>\n",
       "    <tr>\n",
       "      <th>...</th>\n",
       "      <td>...</td>\n",
       "      <td>...</td>\n",
       "      <td>...</td>\n",
       "      <td>...</td>\n",
       "      <td>...</td>\n",
       "      <td>...</td>\n",
       "      <td>...</td>\n",
       "    </tr>\n",
       "    <tr>\n",
       "      <th>2022-04-14</th>\n",
       "      <td>419.018188</td>\n",
       "      <td>425.660613</td>\n",
       "      <td>418.912890</td>\n",
       "      <td>424.531188</td>\n",
       "      <td>97869500</td>\n",
       "      <td>-0.012452</td>\n",
       "      <td>down</td>\n",
       "    </tr>\n",
       "    <tr>\n",
       "      <th>2022-04-18</th>\n",
       "      <td>419.190430</td>\n",
       "      <td>420.894104</td>\n",
       "      <td>416.931608</td>\n",
       "      <td>418.080165</td>\n",
       "      <td>66002500</td>\n",
       "      <td>0.000411</td>\n",
       "      <td>up</td>\n",
       "    </tr>\n",
       "    <tr>\n",
       "      <th>2022-04-19</th>\n",
       "      <td>425.957306</td>\n",
       "      <td>426.684698</td>\n",
       "      <td>418.912877</td>\n",
       "      <td>419.085152</td>\n",
       "      <td>77821000</td>\n",
       "      <td>0.016143</td>\n",
       "      <td>up</td>\n",
       "    </tr>\n",
       "    <tr>\n",
       "      <th>2022-04-20</th>\n",
       "      <td>425.641479</td>\n",
       "      <td>428.378862</td>\n",
       "      <td>424.464239</td>\n",
       "      <td>427.756739</td>\n",
       "      <td>65224400</td>\n",
       "      <td>-0.000741</td>\n",
       "      <td>down</td>\n",
       "    </tr>\n",
       "    <tr>\n",
       "      <th>2022-04-21</th>\n",
       "      <td>419.276611</td>\n",
       "      <td>430.714224</td>\n",
       "      <td>418.357783</td>\n",
       "      <td>429.307254</td>\n",
       "      <td>85417300</td>\n",
       "      <td>-0.014954</td>\n",
       "      <td>down</td>\n",
       "    </tr>\n",
       "  </tbody>\n",
       "</table>\n",
       "<p>3097 rows × 7 columns</p>\n",
       "</div>"
      ],
      "text/plain": [
       "Price            Close        High         Low        Open     Volume  \\\n",
       "Ticker             SPY         SPY         SPY         SPY        SPY   \n",
       "Date                                                                    \n",
       "2010-01-04   85.768448   85.813854   84.391067   85.041918  118944600   \n",
       "2010-01-05   85.995445   86.033288   85.405140   85.715432  111579900   \n",
       "2010-01-06   86.056030   86.267934   85.844126   85.912236  116074400   \n",
       "2010-01-07   86.419281   86.525233   85.654909   85.897085  131091100   \n",
       "2010-01-08   86.706863   86.744706   86.018176   86.192237  126402800   \n",
       "...                ...         ...         ...         ...        ...   \n",
       "2022-04-14  419.018188  425.660613  418.912890  424.531188   97869500   \n",
       "2022-04-18  419.190430  420.894104  416.931608  418.080165   66002500   \n",
       "2022-04-19  425.957306  426.684698  418.912877  419.085152   77821000   \n",
       "2022-04-20  425.641479  428.378862  424.464239  427.756739   65224400   \n",
       "2022-04-21  419.276611  430.714224  418.357783  429.307254   85417300   \n",
       "\n",
       "Price      daily_return state  \n",
       "Ticker                         \n",
       "Date                           \n",
       "2010-01-04          NaN  down  \n",
       "2010-01-05     0.002647    up  \n",
       "2010-01-06     0.000705    up  \n",
       "2010-01-07     0.004221    up  \n",
       "2010-01-08     0.003328    up  \n",
       "...                 ...   ...  \n",
       "2022-04-14    -0.012452  down  \n",
       "2022-04-18     0.000411    up  \n",
       "2022-04-19     0.016143    up  \n",
       "2022-04-20    -0.000741  down  \n",
       "2022-04-21    -0.014954  down  \n",
       "\n",
       "[3097 rows x 7 columns]"
      ]
     },
     "execution_count": 30,
     "metadata": {},
     "output_type": "execute_result"
    }
   ],
   "source": [
    "\n",
    "data\n"
   ]
  },
  {
   "cell_type": "code",
   "execution_count": 41,
   "id": "e76ae010-6b0f-4fd4-b79b-d5d9fd477a66",
   "metadata": {},
   "outputs": [],
   "source": [
    "\n",
    "up_counts = len(data[data[\"state\"] == \"up\"])\n",
    "down_counts = len(data[data[\"state\"] == \"down\"])\n",
    "\n",
    "up_to_up = len(data[(data[\"state\"] == \"up\") & (data[\"state\"].shift(-1) == \"up\")]) / len(data[data[\"state\"] == \"up\"])\n",
    "down_to_up = len(data[(data[\"state\"] == \"up\") & (data[\"state\"].shift(-1) == \"down\")]) / len(data[data[\"state\"] == \"up\"])\n",
    "up_to_down = len(data[(data[\"state\"] == \"down\") & (data[\"state\"].shift(-1) == \"up\")]) / len(data[data[\"state\"] == \"down\"])\n",
    "down_to_down = len(data[(data[\"state\"] == \"down\") & (data[\"state\"].shift(-1) == \"down\")]) / len(data[data[\"state\"] == \"down\"])\n",
    "\n",
    "transition_matrix = pd.DataFrame({\n",
    "    \"up\": [up_to_up, up_to_down],\n",
    "    \"down\": [down_to_up, down_to_down]\n",
    "}, index=[\"up\", \"down\"])\n",
    "\n"
   ]
  },
  {
   "cell_type": "code",
   "execution_count": 59,
   "id": "5d2f23c3-2905-44b6-b9fb-3a6f500ea1e8",
   "metadata": {},
   "outputs": [
    {
     "data": {
      "text/html": [
       "<div>\n",
       "<style scoped>\n",
       "    .dataframe tbody tr th:only-of-type {\n",
       "        vertical-align: middle;\n",
       "    }\n",
       "\n",
       "    .dataframe tbody tr th {\n",
       "        vertical-align: top;\n",
       "    }\n",
       "\n",
       "    .dataframe thead th {\n",
       "        text-align: right;\n",
       "    }\n",
       "</style>\n",
       "<table border=\"1\" class=\"dataframe\">\n",
       "  <thead>\n",
       "    <tr style=\"text-align: right;\">\n",
       "      <th></th>\n",
       "      <th>up</th>\n",
       "      <th>down</th>\n",
       "    </tr>\n",
       "  </thead>\n",
       "  <tbody>\n",
       "    <tr>\n",
       "      <th>up</th>\n",
       "      <td>0.546767</td>\n",
       "      <td>0.453233</td>\n",
       "    </tr>\n",
       "    <tr>\n",
       "      <th>down</th>\n",
       "      <td>0.575092</td>\n",
       "      <td>0.424176</td>\n",
       "    </tr>\n",
       "  </tbody>\n",
       "</table>\n",
       "</div>"
      ],
      "text/plain": [
       "            up      down\n",
       "up    0.546767  0.453233\n",
       "down  0.575092  0.424176"
      ]
     },
     "execution_count": 59,
     "metadata": {},
     "output_type": "execute_result"
    }
   ],
   "source": [
    "transition_matrix"
   ]
  },
  {
   "cell_type": "code",
   "execution_count": 64,
   "id": "3fd9b22d-e217-45ca-b918-12e953a5c6b0",
   "metadata": {},
   "outputs": [
    {
     "data": {
      "text/plain": [
       "array([[0.547, 0.453],\n",
       "       [0.575, 0.425]])"
      ]
     },
     "execution_count": 64,
     "metadata": {},
     "output_type": "execute_result"
    }
   ],
   "source": [
    "M_t = np.array([[.547, .453],[.575, .425]])\n",
    "M_t"
   ]
  },
  {
   "cell_type": "code",
   "execution_count": 62,
   "id": "e56c0eaf-5985-42e9-bc81-e7a04cab7260",
   "metadata": {},
   "outputs": [],
   "source": [
    "from numpy.linalg import matrix_power as mp"
   ]
  },
  {
   "cell_type": "code",
   "execution_count": 66,
   "id": "8721dae1-c332-43dd-9a5f-6dafebf5a715",
   "metadata": {},
   "outputs": [
    {
     "data": {
      "text/plain": [
       "array([[0.559684, 0.440316],\n",
       "       [0.5589  , 0.4411  ]])"
      ]
     },
     "execution_count": 66,
     "metadata": {},
     "output_type": "execute_result"
    }
   ],
   "source": [
    "M_t_2d = mp(M_t, 2)\n",
    "M_t_2d"
   ]
  },
  {
   "cell_type": "code",
   "execution_count": 1,
   "id": "39eb1d2d-efbb-42d1-b558-1589db6409cd",
   "metadata": {},
   "outputs": [
    {
     "name": "stdout",
     "output_type": "stream",
     "text": [
      "YF.download() has changed argument auto_adjust default to True\n"
     ]
    },
    {
     "name": "stderr",
     "output_type": "stream",
     "text": [
      "[*********************100%***********************]  1 of 1 completed\n"
     ]
    },
    {
     "data": {
      "text/plain": [
       "array([[0.547, 0.453],\n",
       "       [0.575, 0.425]])"
      ]
     },
     "execution_count": 1,
     "metadata": {},
     "output_type": "execute_result"
    }
   ],
   "source": [
    "\n",
    "import yfinance as yf\n",
    "import numpy as np\n",
    "import pandas as pd\n",
    "\n",
    "data = yf.download('RGTI', start='2025-04-11', end='2025-04-28')\n",
    "\n",
    "data[\"daily_return\"] = data[\"Close\"].pct_change()\n",
    "data[\"state\"] = np.where(data[\"daily_return\"] >= 0, \"up\", \"down\")\n",
    "\n",
    "up_counts = len(data[data[\"state\"] == \"up\"])\n",
    "down_counts = len(data[data[\"state\"] == \"down\"])\n",
    "\n",
    "up_to_up = len(data[(data[\"state\"] == \"up\") & (data[\"state\"].shift(-1) == \"up\")]) / len(data[data[\"state\"] == \"up\"])\n",
    "down_to_up = len(data[(data[\"state\"] == \"up\") & (data[\"state\"].shift(-1) == \"down\")]) / len(data[data[\"state\"] == \"up\"])\n",
    "up_to_down = len(data[(data[\"state\"] == \"down\") & (data[\"state\"].shift(-1) == \"up\")]) / len(data[data[\"state\"] == \"down\"])\n",
    "down_to_down = len(data[(data[\"state\"] == \"down\") & (data[\"state\"].shift(-1) == \"down\")]) / len(data[data[\"state\"] == \"down\"])\n",
    "\n",
    "transition_matrix = pd.DataFrame({\n",
    "    \"up\": [up_to_up, up_to_down],\n",
    "    \"down\": [down_to_up, down_to_down]\n",
    "}, index=[\"up\", \"down\"])\n",
    "\n",
    "M_t = np.array([[.547, .453],[.575, .425]])\n",
    "M_t\n"
   ]
  },
  {
   "cell_type": "code",
   "execution_count": null,
   "id": "53804738-e98d-448c-9ee4-83a318f54174",
   "metadata": {},
   "outputs": [],
   "source": []
  }
 ],
 "metadata": {
  "kernelspec": {
   "display_name": "Python 3 (ipykernel)",
   "language": "python",
   "name": "python3"
  },
  "language_info": {
   "codemirror_mode": {
    "name": "ipython",
    "version": 3
   },
   "file_extension": ".py",
   "mimetype": "text/x-python",
   "name": "python",
   "nbconvert_exporter": "python",
   "pygments_lexer": "ipython3",
   "version": "3.11.7"
  }
 },
 "nbformat": 4,
 "nbformat_minor": 5
}
