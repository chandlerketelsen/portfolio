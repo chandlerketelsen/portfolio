{
 "cells": [
  {
   "cell_type": "markdown",
   "id": "552b08a2-a1c5-4587-9fe9-15084f4f1c85",
   "metadata": {},
   "source": [
    "# LSTM Market Predictions: Reconciling Transition Matrices and LSTM\n",
    "\n",
    "This method constructs a transition matrix from LSTM-based predictions of market direction using historical financial data. First, it downloads stock prices via Alpha Vantage and labels each day as “up” or “down” based on return thresholds to reduce noise. It then builds sequences of past prices, normalized with MinMax scaling, and trains an LSTM to predict the next day's direction. \n",
    "\n",
    "To address class imbalance and overfitting, the model uses class weights and a lightweight architecture with one LSTM layer followed by dense layers. After training, predictions are mapped back to the two-day sequences that preceded them, and these mappings are aggregated to form a second-order transition matrix. The resulting matrix provides a probabilistic view of how different recent regimes are expected to evolve, reconciling black-box LSTM outputs with interpretable Markov-style structure."
   ]
  },
  {
   "cell_type": "code",
   "execution_count": 123,
   "id": "083b13e5-46ce-4c6b-a7eb-48287db5007d",
   "metadata": {},
   "outputs": [],
   "source": [
    "# === INSTALL REQUIRED PACKAGES ===\n",
    "# pip install alpha_vantage pandas numpy tensorflow scikit-learn matplotlib seaborn\n",
    "\n",
    "from alpha_vantage.timeseries import TimeSeries\n",
    "import pandas as pd\n",
    "import numpy as np\n",
    "import tensorflow as tf\n",
    "from tensorflow.keras.models import Sequential\n",
    "from tensorflow.keras.layers import LSTM, Dense\n",
    "from sklearn.model_selection import train_test_split\n",
    "from sklearn.preprocessing import MinMaxScaler\n",
    "from sklearn.utils.class_weight import compute_class_weight\n",
    "import matplotlib.pyplot as plt\n",
    "import seaborn as sb\n"
   ]
  },
  {
   "cell_type": "code",
   "execution_count": 124,
   "id": "ed442746-58c5-463b-aeb5-31c093f0503b",
   "metadata": {},
   "outputs": [],
   "source": [
    "# === STEP 1: LOAD DATA FROM ALPHA VANTAGE ===\n",
    "api_key = 'WT3P7957XP6T1AU1'  # Replace with your key\n",
    "symbol = 'TSLA'\n",
    "\n",
    "ts = TimeSeries(key=api_key, output_format='pandas')\n",
    "data, _ = ts.get_daily(symbol=symbol, outputsize='full')"
   ]
  },
  {
   "cell_type": "code",
   "execution_count": 125,
   "id": "13b86d7e-4edd-4ccb-b11b-ac8af0e3ff8f",
   "metadata": {},
   "outputs": [],
   "source": [
    "# === STEP 2: PROCESS AND LABEL DATA ===\n",
    "data = data.rename(columns={'4. close': 'Close'})\n",
    "data = data.sort_index()\n",
    "data = data.loc['2004-01-01':'2025-05-14'].copy()\n",
    "\n",
    "# Compute returns\n",
    "data['return'] = data['Close'].pct_change()\n",
    "\n",
    "# Apply threshold: classify only significant movements\n",
    "threshold = 0.002  # ~0.2%\n",
    "data['state'] = np.where(data['return'] > threshold, 1,\n",
    "                  np.where(data['return'] < -threshold, 0, np.nan))\n",
    "data = data.dropna().reset_index(drop=True)\n",
    "\n",
    "# Normalize prices for LSTM\n",
    "scaler = MinMaxScaler()\n",
    "data['Close_scaled'] = scaler.fit_transform(data[['Close']])"
   ]
  },
  {
   "cell_type": "code",
   "execution_count": 126,
   "id": "1bb63370-e113-4dbd-b539-91f73669fdd2",
   "metadata": {},
   "outputs": [],
   "source": [
    "# === STEP 3: SEQUENCE CONSTRUCTION ===\n",
    "def create_sequences(series, states, seq_len=10):\n",
    "    X, y = [], []\n",
    "    for i in range(len(series) - seq_len):\n",
    "        if np.isnan(states[i+seq_len]):\n",
    "            continue\n",
    "        X.append(series[i:i+seq_len])\n",
    "        y.append(states[i+seq_len])\n",
    "    return np.array(X), np.array(y)\n",
    "\n",
    "sequence_length = 10\n",
    "X, y = create_sequences(data['Close_scaled'].values, data['state'].values, sequence_length)\n",
    "X = X.reshape((X.shape[0], X.shape[1], 1))"
   ]
  },
  {
   "cell_type": "code",
   "execution_count": 127,
   "id": "b5c9fc66-7caf-427b-88c8-bec2732d1732",
   "metadata": {},
   "outputs": [],
   "source": [
    "# === STEP 4: SPLIT + BALANCE ===\n",
    "X_train, X_val, y_train, y_val = train_test_split(X, y, test_size=0.25, shuffle=False)\n",
    "\n",
    "class_weights_array = compute_class_weight(class_weight='balanced', classes=np.unique(y_train), y=y_train)\n",
    "class_weights = {i: class_weights_array[i] for i in range(len(class_weights_array))}"
   ]
  },
  {
   "cell_type": "code",
   "execution_count": 137,
   "id": "ea11cdbe-4c0c-4ca2-b205-38e127d692af",
   "metadata": {},
   "outputs": [
    {
     "name": "stdout",
     "output_type": "stream",
     "text": [
      "Epoch 1/70\n",
      "82/82 [==============================] - 1s 3ms/step - loss: 0.6941 - accuracy: 0.5180 - val_loss: 0.6934 - val_accuracy: 0.4856\n",
      "Epoch 2/70\n",
      "82/82 [==============================] - 0s 1ms/step - loss: 0.6934 - accuracy: 0.4631 - val_loss: 0.6933 - val_accuracy: 0.4856\n",
      "Epoch 3/70\n",
      "82/82 [==============================] - 0s 1ms/step - loss: 0.6933 - accuracy: 0.4808 - val_loss: 0.6933 - val_accuracy: 0.4856\n",
      "Epoch 4/70\n",
      "82/82 [==============================] - 0s 1ms/step - loss: 0.6932 - accuracy: 0.4697 - val_loss: 0.6932 - val_accuracy: 0.4856\n",
      "Epoch 5/70\n",
      "82/82 [==============================] - 0s 1ms/step - loss: 0.6932 - accuracy: 0.4716 - val_loss: 0.6932 - val_accuracy: 0.4856\n",
      "Epoch 6/70\n",
      "82/82 [==============================] - 0s 1ms/step - loss: 0.6932 - accuracy: 0.5042 - val_loss: 0.6932 - val_accuracy: 0.4856\n",
      "Epoch 7/70\n",
      "82/82 [==============================] - 0s 1ms/step - loss: 0.6933 - accuracy: 0.4931 - val_loss: 0.6932 - val_accuracy: 0.4856\n",
      "Epoch 8/70\n",
      "82/82 [==============================] - 0s 1ms/step - loss: 0.6932 - accuracy: 0.4981 - val_loss: 0.6932 - val_accuracy: 0.4856\n",
      "Epoch 9/70\n",
      "82/82 [==============================] - 0s 1ms/step - loss: 0.6933 - accuracy: 0.4927 - val_loss: 0.6932 - val_accuracy: 0.4856\n",
      "Epoch 10/70\n",
      "82/82 [==============================] - 0s 1ms/step - loss: 0.6932 - accuracy: 0.4789 - val_loss: 0.6932 - val_accuracy: 0.4856\n",
      "Epoch 11/70\n",
      "82/82 [==============================] - 0s 1ms/step - loss: 0.6932 - accuracy: 0.4889 - val_loss: 0.6931 - val_accuracy: 0.5144\n",
      "Epoch 12/70\n",
      "82/82 [==============================] - 0s 1ms/step - loss: 0.6933 - accuracy: 0.4674 - val_loss: 0.6932 - val_accuracy: 0.4856\n",
      "Epoch 13/70\n",
      "82/82 [==============================] - 0s 1ms/step - loss: 0.6932 - accuracy: 0.5204 - val_loss: 0.6931 - val_accuracy: 0.5144\n",
      "Epoch 14/70\n",
      "82/82 [==============================] - 0s 1ms/step - loss: 0.6933 - accuracy: 0.4766 - val_loss: 0.6932 - val_accuracy: 0.4856\n",
      "Epoch 15/70\n",
      "82/82 [==============================] - 0s 1ms/step - loss: 0.6932 - accuracy: 0.4727 - val_loss: 0.6931 - val_accuracy: 0.5144\n",
      "Epoch 16/70\n",
      "82/82 [==============================] - 0s 1ms/step - loss: 0.6932 - accuracy: 0.4800 - val_loss: 0.6933 - val_accuracy: 0.4856\n",
      "Epoch 17/70\n",
      "82/82 [==============================] - 0s 1ms/step - loss: 0.6932 - accuracy: 0.4712 - val_loss: 0.6932 - val_accuracy: 0.4856\n",
      "Epoch 18/70\n",
      "82/82 [==============================] - 0s 1ms/step - loss: 0.6932 - accuracy: 0.5088 - val_loss: 0.6931 - val_accuracy: 0.5144\n",
      "Epoch 19/70\n",
      "82/82 [==============================] - 0s 1ms/step - loss: 0.6932 - accuracy: 0.5211 - val_loss: 0.6931 - val_accuracy: 0.5144\n",
      "Epoch 20/70\n",
      "82/82 [==============================] - 0s 1ms/step - loss: 0.6933 - accuracy: 0.4773 - val_loss: 0.6931 - val_accuracy: 0.4856\n",
      "Epoch 21/70\n",
      "82/82 [==============================] - 0s 1ms/step - loss: 0.6932 - accuracy: 0.4708 - val_loss: 0.6931 - val_accuracy: 0.5144\n",
      "Epoch 22/70\n",
      "82/82 [==============================] - 0s 1ms/step - loss: 0.6932 - accuracy: 0.4985 - val_loss: 0.6931 - val_accuracy: 0.5144\n",
      "Epoch 23/70\n",
      "82/82 [==============================] - 0s 1ms/step - loss: 0.6933 - accuracy: 0.5211 - val_loss: 0.6931 - val_accuracy: 0.5144\n",
      "Epoch 24/70\n",
      "82/82 [==============================] - 0s 1ms/step - loss: 0.6932 - accuracy: 0.4773 - val_loss: 0.6932 - val_accuracy: 0.4856\n",
      "Epoch 25/70\n",
      "82/82 [==============================] - 0s 1ms/step - loss: 0.6932 - accuracy: 0.4789 - val_loss: 0.6932 - val_accuracy: 0.4856\n",
      "Epoch 26/70\n",
      "82/82 [==============================] - 0s 1ms/step - loss: 0.6932 - accuracy: 0.5088 - val_loss: 0.6931 - val_accuracy: 0.5144\n",
      "Epoch 27/70\n",
      "82/82 [==============================] - 0s 1ms/step - loss: 0.6932 - accuracy: 0.5211 - val_loss: 0.6931 - val_accuracy: 0.5144\n",
      "Epoch 28/70\n",
      "82/82 [==============================] - 0s 1ms/step - loss: 0.6932 - accuracy: 0.5157 - val_loss: 0.6931 - val_accuracy: 0.4856\n",
      "Epoch 29/70\n",
      "82/82 [==============================] - 0s 1ms/step - loss: 0.6932 - accuracy: 0.4727 - val_loss: 0.6932 - val_accuracy: 0.4856\n",
      "Epoch 30/70\n",
      "82/82 [==============================] - 0s 1ms/step - loss: 0.6933 - accuracy: 0.4789 - val_loss: 0.6932 - val_accuracy: 0.4856\n",
      "Epoch 31/70\n",
      "82/82 [==============================] - 0s 1ms/step - loss: 0.6932 - accuracy: 0.4935 - val_loss: 0.6932 - val_accuracy: 0.4856\n",
      "Epoch 32/70\n",
      "82/82 [==============================] - 0s 1ms/step - loss: 0.6932 - accuracy: 0.4927 - val_loss: 0.6932 - val_accuracy: 0.4856\n",
      "Epoch 33/70\n",
      "82/82 [==============================] - 0s 1ms/step - loss: 0.6932 - accuracy: 0.4789 - val_loss: 0.6932 - val_accuracy: 0.4856\n",
      "Epoch 34/70\n",
      "82/82 [==============================] - 0s 1ms/step - loss: 0.6932 - accuracy: 0.5127 - val_loss: 0.6931 - val_accuracy: 0.5144\n",
      "Epoch 35/70\n",
      "82/82 [==============================] - 0s 1ms/step - loss: 0.6932 - accuracy: 0.5050 - val_loss: 0.6932 - val_accuracy: 0.4856\n",
      "Epoch 36/70\n",
      "82/82 [==============================] - 0s 1ms/step - loss: 0.6932 - accuracy: 0.4965 - val_loss: 0.6931 - val_accuracy: 0.5144\n",
      "Epoch 37/70\n",
      "82/82 [==============================] - 0s 1ms/step - loss: 0.6932 - accuracy: 0.5058 - val_loss: 0.6931 - val_accuracy: 0.5144\n",
      "Epoch 38/70\n",
      "82/82 [==============================] - 0s 1ms/step - loss: 0.6932 - accuracy: 0.4827 - val_loss: 0.6931 - val_accuracy: 0.5144\n",
      "Epoch 39/70\n",
      "82/82 [==============================] - 0s 1ms/step - loss: 0.6932 - accuracy: 0.4912 - val_loss: 0.6931 - val_accuracy: 0.5144\n",
      "Epoch 40/70\n",
      "82/82 [==============================] - 0s 1ms/step - loss: 0.6932 - accuracy: 0.5119 - val_loss: 0.6932 - val_accuracy: 0.4856\n",
      "Epoch 41/70\n",
      "82/82 [==============================] - 0s 1ms/step - loss: 0.6932 - accuracy: 0.4896 - val_loss: 0.6931 - val_accuracy: 0.5144\n",
      "Epoch 42/70\n",
      "82/82 [==============================] - 0s 1ms/step - loss: 0.6932 - accuracy: 0.4781 - val_loss: 0.6932 - val_accuracy: 0.4856\n",
      "Epoch 43/70\n",
      "82/82 [==============================] - 0s 1ms/step - loss: 0.6932 - accuracy: 0.4820 - val_loss: 0.6932 - val_accuracy: 0.4856\n",
      "Epoch 44/70\n",
      "82/82 [==============================] - 0s 1ms/step - loss: 0.6932 - accuracy: 0.4904 - val_loss: 0.6931 - val_accuracy: 0.5144\n",
      "Epoch 45/70\n",
      "82/82 [==============================] - 0s 1ms/step - loss: 0.6932 - accuracy: 0.5211 - val_loss: 0.6931 - val_accuracy: 0.5144\n",
      "Epoch 46/70\n",
      "82/82 [==============================] - 0s 1ms/step - loss: 0.6932 - accuracy: 0.5104 - val_loss: 0.6932 - val_accuracy: 0.4856\n",
      "Epoch 47/70\n",
      "82/82 [==============================] - 0s 1ms/step - loss: 0.6932 - accuracy: 0.4789 - val_loss: 0.6931 - val_accuracy: 0.5144\n",
      "Epoch 48/70\n",
      "82/82 [==============================] - 0s 1ms/step - loss: 0.6932 - accuracy: 0.5211 - val_loss: 0.6931 - val_accuracy: 0.5144\n",
      "Epoch 49/70\n",
      "82/82 [==============================] - 0s 1ms/step - loss: 0.6933 - accuracy: 0.4835 - val_loss: 0.6932 - val_accuracy: 0.4856\n",
      "Epoch 50/70\n",
      "82/82 [==============================] - 0s 1ms/step - loss: 0.6932 - accuracy: 0.5127 - val_loss: 0.6931 - val_accuracy: 0.5144\n",
      "Epoch 51/70\n",
      "82/82 [==============================] - 0s 1ms/step - loss: 0.6932 - accuracy: 0.4820 - val_loss: 0.6932 - val_accuracy: 0.4856\n",
      "Epoch 52/70\n",
      "82/82 [==============================] - 0s 1ms/step - loss: 0.6932 - accuracy: 0.4789 - val_loss: 0.6932 - val_accuracy: 0.4856\n",
      "Epoch 53/70\n",
      "82/82 [==============================] - 0s 1ms/step - loss: 0.6932 - accuracy: 0.5042 - val_loss: 0.6931 - val_accuracy: 0.5144\n",
      "Epoch 54/70\n",
      "82/82 [==============================] - 0s 1ms/step - loss: 0.6932 - accuracy: 0.4781 - val_loss: 0.6931 - val_accuracy: 0.5144\n",
      "Epoch 55/70\n",
      "82/82 [==============================] - 0s 1ms/step - loss: 0.6932 - accuracy: 0.4889 - val_loss: 0.6931 - val_accuracy: 0.5144\n",
      "Epoch 56/70\n",
      "82/82 [==============================] - 0s 1ms/step - loss: 0.6932 - accuracy: 0.4689 - val_loss: 0.6932 - val_accuracy: 0.4856\n",
      "Epoch 57/70\n",
      "82/82 [==============================] - 0s 1ms/step - loss: 0.6932 - accuracy: 0.4773 - val_loss: 0.6931 - val_accuracy: 0.5144\n",
      "Epoch 58/70\n",
      "82/82 [==============================] - 0s 1ms/step - loss: 0.6932 - accuracy: 0.4866 - val_loss: 0.6931 - val_accuracy: 0.5144\n",
      "Epoch 59/70\n",
      "82/82 [==============================] - 0s 1ms/step - loss: 0.6932 - accuracy: 0.5211 - val_loss: 0.6930 - val_accuracy: 0.5144\n",
      "Epoch 60/70\n",
      "82/82 [==============================] - 0s 1ms/step - loss: 0.6933 - accuracy: 0.4919 - val_loss: 0.6931 - val_accuracy: 0.5144\n",
      "Epoch 61/70\n",
      "82/82 [==============================] - 0s 1ms/step - loss: 0.6932 - accuracy: 0.4804 - val_loss: 0.6931 - val_accuracy: 0.4856\n",
      "Epoch 62/70\n",
      "82/82 [==============================] - 0s 1ms/step - loss: 0.6932 - accuracy: 0.4981 - val_loss: 0.6931 - val_accuracy: 0.5144\n",
      "Epoch 63/70\n",
      "82/82 [==============================] - 0s 1ms/step - loss: 0.6932 - accuracy: 0.5211 - val_loss: 0.6931 - val_accuracy: 0.5144\n",
      "Epoch 64/70\n",
      "82/82 [==============================] - 0s 1ms/step - loss: 0.6932 - accuracy: 0.4820 - val_loss: 0.6931 - val_accuracy: 0.5144\n",
      "Epoch 65/70\n",
      "82/82 [==============================] - 0s 1ms/step - loss: 0.6933 - accuracy: 0.4927 - val_loss: 0.6931 - val_accuracy: 0.5144\n",
      "Epoch 66/70\n",
      "82/82 [==============================] - 0s 1ms/step - loss: 0.6933 - accuracy: 0.4681 - val_loss: 0.6931 - val_accuracy: 0.5144\n",
      "Epoch 67/70\n",
      "82/82 [==============================] - 0s 1ms/step - loss: 0.6932 - accuracy: 0.4750 - val_loss: 0.6931 - val_accuracy: 0.5144\n",
      "Epoch 68/70\n",
      "82/82 [==============================] - 0s 1ms/step - loss: 0.6933 - accuracy: 0.4735 - val_loss: 0.6931 - val_accuracy: 0.5144\n",
      "Epoch 69/70\n",
      "82/82 [==============================] - 0s 1ms/step - loss: 0.6932 - accuracy: 0.4835 - val_loss: 0.6933 - val_accuracy: 0.4856\n",
      "Epoch 70/70\n",
      "82/82 [==============================] - 0s 1ms/step - loss: 0.6932 - accuracy: 0.4789 - val_loss: 0.6932 - val_accuracy: 0.4856\n"
     ]
    },
    {
     "data": {
      "text/plain": [
       "<keras.src.callbacks.History at 0x35f868310>"
      ]
     },
     "execution_count": 137,
     "metadata": {},
     "output_type": "execute_result"
    }
   ],
   "source": [
    "# === STEP 5: LSTM MODEL ===\n",
    "model = Sequential([\n",
    "    LSTM(32, input_shape=(sequence_length, 1)),\n",
    "    Dense(16, activation='relu'),\n",
    "    Dense(2, activation='softmax')  # Output: down or up\n",
    "])\n",
    "\n",
    "model.compile(optimizer='adam', loss='sparse_categorical_crossentropy', metrics=['accuracy'])\n",
    "\n",
    "model.fit(X_train, y_train, epochs=70, validation_data=(X_val, y_val), class_weight=class_weights, verbose=1)"
   ]
  },
  {
   "cell_type": "code",
   "execution_count": 138,
   "id": "6d54af42-35f3-4cf3-8221-e30d6cd3ba69",
   "metadata": {},
   "outputs": [
    {
     "name": "stdout",
     "output_type": "stream",
     "text": [
      "28/28 [==============================] - 0s 527us/step\n"
     ]
    }
   ],
   "source": [
    "# === STEP 6: PREDICT AND BUILD TRANSITION MATRIX ===\n",
    "probs = model.predict(X_val)\n",
    "pred_class = np.argmax(probs, axis=1)\n",
    "\n",
    "# For each prediction, label the 2-day real sequence preceding it\n",
    "true_states = y_val\n",
    "sequence_labels = [f\"{true_states[i-2]}-{true_states[i-1]}\" for i in range(2, len(true_states))]\n",
    "pred_trimmed = pred_class[2:]\n",
    "\n",
    "df_pred = pd.DataFrame({'sequence': sequence_labels, 'predicted_state': pred_trimmed})\n",
    "counts = df_pred.groupby(['sequence', 'predicted_state']).size().unstack().fillna(0)\n",
    "transition_matrix = counts.div(counts.sum(axis=1), axis=0)\n",
    "transition_matrix = transition_matrix.rename(columns={0: 'down', 1: 'up'})"
   ]
  },
  {
   "cell_type": "code",
   "execution_count": 139,
   "id": "1a9fd7b7-736f-4d02-b10e-aadca45210dd",
   "metadata": {},
   "outputs": [
    {
     "name": "stdout",
     "output_type": "stream",
     "text": [
      "\n",
      "✅ LSTM-Reconciled 3-Day Transition Matrix:\n",
      "predicted_state  down\n",
      "sequence             \n",
      "0.0-0.0           1.0\n",
      "0.0-1.0           1.0\n",
      "1.0-0.0           1.0\n",
      "1.0-1.0           1.0\n"
     ]
    },
    {
     "data": {
      "image/png": "[encoded data removed]",
      "text/plain": [
       "<Figure size 600x500 with 2 Axes>"
      ]
     },
     "metadata": {},
     "output_type": "display_data"
    }
   ],
   "source": [
    "# === STEP 7: DISPLAY AND VISUALIZE ===\n",
    "print(\"\\n✅ LSTM-Reconciled 3-Day Transition Matrix:\")\n",
    "print(transition_matrix)\n",
    "\n",
    "# Heatmap visualization\n",
    "plt.figure(figsize=(6, 5))\n",
    "sns.heatmap(transition_matrix, annot=True, cmap='coolwarm', fmt=\".2f\")\n",
    "plt.title(\"LSTM-Inferred 3-Day Transition Matrix \\n\")\n",
    "plt.xlabel(\"Next Predicted State\")\n",
    "plt.ylabel(\"Prior 2-Day Sequence\")\n",
    "plt.tight_layout()\n",
    "plt.show()"
   ]
  },
  {
   "cell_type": "code",
   "execution_count": null,
   "id": "f65ff70a-0aff-4e0c-a0c0-1b2306546c3c",
   "metadata": {},
   "outputs": [],
   "source": []
  }
 ],
 "metadata": {
  "kernelspec": {
   "display_name": "Python 3 (ipykernel)",
   "language": "python",
   "name": "python3"
  },
  "language_info": {
   "codemirror_mode": {
    "name": "ipython",
    "version": 3
   },
   "file_extension": ".py",
   "mimetype": "text/x-python",
   "name": "python",
   "nbconvert_exporter": "python",
   "pygments_lexer": "ipython3",
   "version": "3.11.7"
  }
 },
 "nbformat": 4,
 "nbformat_minor": 5
}
