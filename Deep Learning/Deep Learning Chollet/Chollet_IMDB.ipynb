{
 "cells": [
  {
   "cell_type": "markdown",
   "id": "4da3d4ce-3b5e-425f-880e-c1ce1469a288",
   "metadata": {},
   "source": [
    "\n",
    "# Chollet: Classifying Movie Reviews - IMDB Dataset\n",
    "\n",
    "This is a colloquially accepted dataset with 46 different topics and at least 10 examples in each topic's training set. This data comes packaged as part of Keras. \n"
   ]
  },
  {
   "cell_type": "markdown",
   "id": "34294100-7626-4c9d-bed9-84868e3d15c4",
   "metadata": {},
   "source": [
    "## Loading the IMDB Dataset"
   ]
  },
  {
   "cell_type": "code",
   "execution_count": 2,
   "id": "8b658044-ae48-467b-97e2-4b142060725e",
   "metadata": {},
   "outputs": [],
   "source": [
    "\n",
    "from keras.datasets import imdb\n"
   ]
  },
  {
   "cell_type": "code",
   "execution_count": 3,
   "id": "2ace3026-17ae-4ecf-b146-8f576dd16232",
   "metadata": {},
   "outputs": [],
   "source": [
    "\n",
    "(train_data, train_labels), (test_data, test_labels) = imdb.load_data(num_words = 10000)\n"
   ]
  },
  {
   "cell_type": "code",
   "execution_count": 4,
   "id": "dcd421eb-7ee2-4a12-81a3-f5a25b35c8bd",
   "metadata": {},
   "outputs": [
    {
     "data": {
      "text/plain": [
       "True"
      ]
     },
     "execution_count": 4,
     "metadata": {},
     "output_type": "execute_result"
    }
   ],
   "source": [
    "\n",
    "#train_data[0]\n",
    "\n",
    "len(train_data) == len(train_labels)\n"
   ]
  },
  {
   "cell_type": "code",
   "execution_count": 5,
   "id": "60037109-83d8-4d44-a433-78f3437ff8ee",
   "metadata": {},
   "outputs": [
    {
     "data": {
      "text/plain": [
       "9999"
      ]
     },
     "execution_count": 5,
     "metadata": {},
     "output_type": "execute_result"
    }
   ],
   "source": [
    "\n",
    "max([max(sequence) for sequence in train_data])\n"
   ]
  },
  {
   "cell_type": "code",
   "execution_count": 6,
   "id": "443cf278-74c4-4644-8907-8c0e319065c4",
   "metadata": {},
   "outputs": [],
   "source": [
    "\n",
    "# Define a dictionary which maps words to an integer index\n",
    "\n",
    "word_index = imdb.get_word_index() \n",
    "\n",
    "# Invert the word_index mapping, so that the dictionary maps integers to respective words\n",
    "\n",
    "reverse_word_index = dict(\n",
    "    [(value, key) for (key, value) in word_index.items()])\n",
    "\n",
    "# Decode the review, which is stored as a sequence of integers. Start at 3 because the first elements are padding, start of sequence and unknown. \n",
    "\n",
    "decoded_review = ' '.join(\n",
    "    [reverse_word_index.get(i - 3, '?') for i in train_data[0]])\n"
   ]
  },
  {
   "cell_type": "code",
   "execution_count": 7,
   "id": "1bc36b21-3430-4f65-96c9-b87f411ad864",
   "metadata": {},
   "outputs": [
    {
     "data": {
      "text/plain": [
       "\"? this film was just brilliant casting location scenery story direction everyone's really suited the part they played and you could just imagine being there robert ? is an amazing actor and now the same being director ? father came from the same scottish island as myself so i loved the fact there was a real connection with this film the witty remarks throughout the film were great it was just brilliant so much that i bought the film as soon as it was released for ? and would recommend it to everyone to watch and the fly fishing was amazing really cried at the end it was so sad and you know what they say if you cry at a film it must have been good and this definitely was also ? to the two little boy's that played the ? of norman and paul they were just brilliant children are often left out of the ? list i think because the stars that play them all grown up are such a big profile for the whole film but these children are amazing and should be praised for what they have done don't you think the whole story was so lovely because it was true and was someone's life after all that was shared with us all\""
      ]
     },
     "execution_count": 7,
     "metadata": {},
     "output_type": "execute_result"
    }
   ],
   "source": [
    "decoded_review"
   ]
  },
  {
   "cell_type": "markdown",
   "id": "838423ef-703d-4195-9bd8-55257c13fad3",
   "metadata": {},
   "source": [
    "## Preparing the Data"
   ]
  },
  {
   "cell_type": "code",
   "execution_count": 8,
   "id": "35c99f37-60d7-4c39-90b8-f24dd86db4bd",
   "metadata": {},
   "outputs": [],
   "source": [
    "\n",
    "import numpy as np\n",
    "\n",
    "def vectorize_sequences(sequences, dimension=10000):\n",
    "\n",
    "    # Initialize a zero matrix that can be used as a frame for our experiment. Has shape (len(sequences), dimension)\n",
    "    \n",
    "    results = np.zeros((len(sequences), dimension))\n",
    "\n",
    "    # Set particular indices of results[i] to 1\n",
    "    \n",
    "    for i, sequence in enumerate(sequences):\n",
    "\n",
    "        results[i, sequence] = 1\n",
    "\n",
    "    return results\n",
    "\n",
    "# Use this function to vectorize train and test data\n",
    "\n",
    "x_train = vectorize_sequences(train_data)\n",
    "x_test = vectorize_sequences(test_data)\n"
   ]
  },
  {
   "cell_type": "code",
   "execution_count": 9,
   "id": "cc89c002-648f-4d43-9fe6-fe300601aef6",
   "metadata": {},
   "outputs": [
    {
     "data": {
      "text/plain": [
       "array([0., 1., 1., ..., 0., 0., 0.])"
      ]
     },
     "execution_count": 9,
     "metadata": {},
     "output_type": "execute_result"
    }
   ],
   "source": [
    "\n",
    "x_train[0]\n"
   ]
  },
  {
   "cell_type": "code",
   "execution_count": 10,
   "id": "600b3aa7-a311-4809-9a73-ad84cdb2e4bd",
   "metadata": {},
   "outputs": [],
   "source": [
    "\n",
    "# Vectorize the labels (response), which is straightforward\n",
    "\n",
    "y_train = np.asarray(train_labels).astype('float32')\n",
    "y_test = np.asarray(train_labels).astype('float32')\n"
   ]
  },
  {
   "cell_type": "markdown",
   "id": "55f9ad9e-7f3a-4d3c-8f99-ea16969ac7fd",
   "metadata": {},
   "source": [
    "\n",
    "## Building your Network\n",
    "\n",
    "This is the easiest categorization setup you'll come across, which has labels as scalars (1s, 0s). A network which performs well on this kind of data is a stack of dense layers with ReLU activation functions.\n",
    "\n",
    "```python\n",
    "# Example instance of Dense layer with ReLU activation functions\n",
    "\n",
    "model.add(layers.Dense(16, activation='relu', input_shape = (10000,)))\n",
    "\n",
    "```\n",
    "\n",
    "*Figure 1: An example of how you'll see the Dense layer added onto a network model*\n",
    "\n",
    "The number 16 is how many hidden units are in this dense layer. *Hidden unit* is a dimension in the representation space of the layer. Recall that each Dense layer with a relu activation function uses the following chain of tensor operations: \n",
    "\n",
    "```python\n",
    "# Chain of operations applied by each Dense layer in the network\n",
    "\n",
    "output = relu(dot(W, input) + b)\n",
    "\n",
    "```\n",
    "The weight matrix $M$ will have shape of \n",
    "\n",
    "```python\n",
    "(input_dimension, 16)\n",
    "```\n",
    "This dot product projects the input into a 16 dimensional representation space, then apply the other simpler transformations. Adding nodes to the hidden layers gives the model more dimensional freeedom. Too much freedom can lead to learning unwanted patterns and makes the network more computationally expensive. \n",
    "\n",
    "Some key decision points are: \n",
    "\n",
    "* How many layers to use\n",
    "* How many hidden units in each layer\n",
    "\n",
    "Until later, we'll use 16 nodes/units in each hidden layer and a third layer to output the scalar prediction regarding the sentiment of the current review. \n"
   ]
  },
  {
   "cell_type": "code",
   "execution_count": 11,
   "id": "a553329c-f28d-4438-8d53-5468bf843403",
   "metadata": {},
   "outputs": [],
   "source": [
    "\n",
    "from keras import models\n",
    "from keras import layers\n",
    "\n",
    "model = models.Sequential()\n",
    "model.add(layers.Dense(16, activation='relu', input_shape=(10000,)))\n",
    "model.add(layers.Dense(16, activation='relu'))\n",
    "model.add(layers.Dense(1, activation='sigmoid'))\n"
   ]
  },
  {
   "cell_type": "markdown",
   "id": "e73404b1-9162-48ba-9a10-aa9ac15bdac7",
   "metadata": {},
   "source": [
    "\n",
    "### Activation Functions: \n",
    "\n",
    "Most commonly, you'll see *ReLU*, *sigmoid* and *tanh* (another sigmoid). These special functions introduce nonlinearities and without them the whole network would be equivalent to just one layer. Without nonlinearities, additional layers would preserve the hypothesis space which isn't useful. \n",
    "\n",
    "Some other activation functions are *prelu* and *elu*.\n"
   ]
  },
  {
   "cell_type": "markdown",
   "id": "98e94d68-9e7f-47ba-993d-53f846489fd8",
   "metadata": {},
   "source": [
    "\n",
    "### Loss Function and Optimizer\n",
    "\n",
    "The output of a binary classification is probability-valued so its best to use the *binary_crossentropy* loss. Another choice could be *mean_squared_error*  but *binary_crossentropy* is usually the best choice when working with probability-valued outputs. \n",
    "\n",
    "*Crossentropy* is a metric from Information Theory which measures the distance between probability distributions or, in this case, distance between the ground-truth distribution and the predicted values. \n"
   ]
  },
  {
   "cell_type": "code",
   "execution_count": 12,
   "id": "123f4fea-d9a6-4aec-846d-56cf6dc0e4f0",
   "metadata": {},
   "outputs": [],
   "source": [
    "\n",
    "# Compile the model using a specific loss function and optimizer algorithm\n",
    "\n",
    "model.compile(optimizer='rmsprop',\n",
    "              loss='binary_crossentropy',\n",
    "              metrics=['accuracy'])\n",
    "\n"
   ]
  },
  {
   "cell_type": "markdown",
   "id": "ca48948b-45f5-4d38-98d5-d294f1eaf1b8",
   "metadata": {},
   "source": [
    "\n",
    "### Configuring the Optimizer\n",
    "\n",
    "RMSprop is being passed as a string which subjects the model to default arguments. When they need to be adjusted, use the following: \n",
    "\n",
    "```python\n",
    "from keras import optimizers\n",
    "\n",
    "model.compile(optimizer=optimizers.RMSprop(lr=0.001),\n",
    "              loss='binary_crossentropy',\n",
    "              metrics=['accuracy'])\n",
    "                   \n",
    "```\n",
    "\n",
    "### Custom Metrics\n",
    "\n",
    "If other metrics need to be used, they are passed as functions to the 'metrics' kwarg in the compilation line. \n",
    "\n",
    "```python\n",
    "\n",
    "from keras import optimizers\n",
    "from keras import metrics\n",
    "\n",
    "model.compile(optimizer=optimizers.RMSprop(lr=0.001),\n",
    "              loss='binary_crossentropy',\n",
    "              metrics=[metrics.binary_accuracy])\n",
    "\n",
    "```\n",
    "\n"
   ]
  },
  {
   "cell_type": "code",
   "execution_count": 13,
   "id": "b4c55977-6fcb-42f5-9c54-d6432b7810ec",
   "metadata": {},
   "outputs": [
    {
     "name": "stderr",
     "output_type": "stream",
     "text": [
      "WARNING:absl:At this time, the v2.11+ optimizer `tf.keras.optimizers.RMSprop` runs slowly on M1/M2 Macs, please use the legacy Keras optimizer instead, located at `tf.keras.optimizers.legacy.RMSprop`.\n",
      "WARNING:absl:`lr` is deprecated in Keras optimizer, please use `learning_rate` or use the legacy optimizer, e.g.,tf.keras.optimizers.legacy.RMSprop.\n"
     ]
    }
   ],
   "source": [
    "\n",
    "from keras import optimizers\n",
    "from keras import metrics\n",
    "\n",
    "model.compile(optimizer=optimizers.RMSprop(lr=0.001),\n",
    "              loss='binary_crossentropy',\n",
    "              metrics=[metrics.binary_accuracy])\n"
   ]
  },
  {
   "cell_type": "markdown",
   "id": "6d7d8a2a-58e2-464a-801a-5176756129a5",
   "metadata": {},
   "source": [
    "\n",
    "## Validating Your Approach\n",
    "\n",
    "Create a validation set by setting apart 10,000 samples from the original training data.\n",
    "\n"
   ]
  },
  {
   "cell_type": "code",
   "execution_count": 14,
   "id": "907b5115-0b90-42db-82b3-5df4aef7c1b4",
   "metadata": {},
   "outputs": [],
   "source": [
    "\n",
    "x_val = x_train[:10000]\n",
    "partial_x_train = x_train[10000:]\n",
    "\n",
    "y_val = y_train[:10000]\n",
    "partial_y_train = y_train[10000:]\n"
   ]
  },
  {
   "cell_type": "code",
   "execution_count": 15,
   "id": "c09fd0a9-9ef1-4a33-a2c9-621d3ad349df",
   "metadata": {},
   "outputs": [
    {
     "name": "stdout",
     "output_type": "stream",
     "text": [
      "Epoch 1/20\n",
      "30/30 [==============================] - 1s 31ms/step - loss: 0.5111 - acc: 0.7851 - val_loss: 0.3900 - val_acc: 0.8645\n",
      "Epoch 2/20\n",
      "30/30 [==============================] - 0s 7ms/step - loss: 0.3024 - acc: 0.9055 - val_loss: 0.3035 - val_acc: 0.8873\n",
      "Epoch 3/20\n",
      "30/30 [==============================] - 0s 6ms/step - loss: 0.2213 - acc: 0.9283 - val_loss: 0.2942 - val_acc: 0.8823\n",
      "Epoch 4/20\n",
      "30/30 [==============================] - 0s 6ms/step - loss: 0.1734 - acc: 0.9443 - val_loss: 0.2985 - val_acc: 0.8791\n",
      "Epoch 5/20\n",
      "30/30 [==============================] - 0s 6ms/step - loss: 0.1448 - acc: 0.9519 - val_loss: 0.2814 - val_acc: 0.8873\n",
      "Epoch 6/20\n",
      "30/30 [==============================] - 0s 5ms/step - loss: 0.1177 - acc: 0.9633 - val_loss: 0.2991 - val_acc: 0.8824\n",
      "Epoch 7/20\n",
      "30/30 [==============================] - 0s 6ms/step - loss: 0.0972 - acc: 0.9708 - val_loss: 0.3091 - val_acc: 0.8812\n",
      "Epoch 8/20\n",
      "30/30 [==============================] - 0s 6ms/step - loss: 0.0812 - acc: 0.9779 - val_loss: 0.3816 - val_acc: 0.8691\n",
      "Epoch 9/20\n",
      "30/30 [==============================] - 0s 6ms/step - loss: 0.0699 - acc: 0.9814 - val_loss: 0.3607 - val_acc: 0.8735\n",
      "Epoch 10/20\n",
      "30/30 [==============================] - 0s 5ms/step - loss: 0.0552 - acc: 0.9863 - val_loss: 0.3754 - val_acc: 0.8777\n",
      "Epoch 11/20\n",
      "30/30 [==============================] - 0s 6ms/step - loss: 0.0482 - acc: 0.9883 - val_loss: 0.4141 - val_acc: 0.8698\n",
      "Epoch 12/20\n",
      "30/30 [==============================] - 0s 6ms/step - loss: 0.0385 - acc: 0.9909 - val_loss: 0.4344 - val_acc: 0.8722\n",
      "Epoch 13/20\n",
      "30/30 [==============================] - 0s 6ms/step - loss: 0.0292 - acc: 0.9947 - val_loss: 0.4661 - val_acc: 0.8703\n",
      "Epoch 14/20\n",
      "30/30 [==============================] - 0s 6ms/step - loss: 0.0292 - acc: 0.9933 - val_loss: 0.4946 - val_acc: 0.8723\n",
      "Epoch 15/20\n",
      "30/30 [==============================] - 0s 6ms/step - loss: 0.0229 - acc: 0.9955 - val_loss: 0.5401 - val_acc: 0.8656\n",
      "Epoch 16/20\n",
      "30/30 [==============================] - 0s 6ms/step - loss: 0.0150 - acc: 0.9982 - val_loss: 0.5527 - val_acc: 0.8682\n",
      "Epoch 17/20\n",
      "30/30 [==============================] - 0s 6ms/step - loss: 0.0143 - acc: 0.9983 - val_loss: 0.5855 - val_acc: 0.8694\n",
      "Epoch 18/20\n",
      "30/30 [==============================] - 0s 6ms/step - loss: 0.0099 - acc: 0.9991 - val_loss: 0.6303 - val_acc: 0.8680\n",
      "Epoch 19/20\n",
      "30/30 [==============================] - 0s 6ms/step - loss: 0.0110 - acc: 0.9977 - val_loss: 0.6654 - val_acc: 0.8652\n",
      "Epoch 20/20\n",
      "30/30 [==============================] - 0s 6ms/step - loss: 0.0048 - acc: 0.9999 - val_loss: 0.7036 - val_acc: 0.8647\n"
     ]
    }
   ],
   "source": [
    "\n",
    "# Train the model for 20 epochs (iterations over all samples in x_train and y_train tensors) in mini-batches of 512 samples. Monitor loss and accuracy on the 10,000 samples\n",
    "#    that you've set apart. Do this by passing the validation_data argument. \n",
    "\n",
    "model.compile(optimizer='rmsprop',\n",
    "              loss='binary_crossentropy',\n",
    "              metrics=['acc'])\n",
    "\n",
    "history = model.fit(partial_x_train,\n",
    "                    partial_y_train,\n",
    "                    epochs=20,\n",
    "                    batch_size=512,\n",
    "                    validation_data = (x_val, y_val))\n",
    "\n",
    "\n"
   ]
  },
  {
   "cell_type": "markdown",
   "id": "3198bfc7-9e89-48b2-9c45-fc588c636ada",
   "metadata": {},
   "source": [
    "\n",
    "## Plot the Training and Validation Loss\n",
    "\n",
    "The call to model.fit returns a History object with a member called history. The member history contains all the data about what happened to the metrics and loss function during the model training. \n",
    "\n",
    "Next the data is plotted using MatPlotLib. \n"
   ]
  },
  {
   "cell_type": "code",
   "execution_count": 16,
   "id": "63f32d72-d182-4961-b1d8-4901e3287f12",
   "metadata": {},
   "outputs": [
    {
     "data": {
      "text/plain": [
       "dict_keys(['loss', 'acc', 'val_loss', 'val_acc'])"
      ]
     },
     "execution_count": 16,
     "metadata": {},
     "output_type": "execute_result"
    }
   ],
   "source": [
    "\n",
    "# Load the history into memory: \n",
    "\n",
    "history_dict = history.history\n",
    "history_dict.keys()\n"
   ]
  },
  {
   "cell_type": "code",
   "execution_count": 20,
   "id": "8c9dee89-4850-4c1c-8342-0b490c4d1e29",
   "metadata": {},
   "outputs": [
    {
     "data": {
      "image/png": "[encoded data removed]",
      "text/plain": [
       "<Figure size 640x480 with 1 Axes>"
      ]
     },
     "metadata": {},
     "output_type": "display_data"
    }
   ],
   "source": [
    "\n",
    "import matplotlib.pyplot as plt\n",
    "\n",
    "plt.clf()\n",
    "\n",
    "history_dict = history.history\n",
    "\n",
    "loss_values = history_dict['loss']\n",
    "val_loss_values = history_dict['val_loss']\n",
    "acc_values = history_dict['acc']\n",
    "\n",
    "epochs = range(1, len(acc_values) + 1)\n",
    "\n",
    "plt.plot(epochs, loss_values, 'bo', label='Training Loss')\n",
    "plt.plot(epochs, val_loss_values, 'b', label='Validation Loss')\n",
    "plt.title('Training and Validation Loss')\n",
    "plt.xlabel('epochs')\n",
    "plt.ylabel('Loss')\n",
    "plt.legend()\n",
    "\n",
    "plt.show()\n"
   ]
  },
  {
   "cell_type": "code",
   "execution_count": 21,
   "id": "86a0f63d-0d2b-4872-a250-1271a6a7d871",
   "metadata": {},
   "outputs": [
    {
     "data": {
      "image/png": "[encoded data removed]",
      "text/plain": [
       "<Figure size 640x480 with 1 Axes>"
      ]
     },
     "metadata": {},
     "output_type": "display_data"
    }
   ],
   "source": [
    "\n",
    "plt.clf() # Clear the figure\n",
    "acc_values = history_dict['acc']\n",
    "val_acc_values = history_dict['val_acc']\n",
    "\n",
    "plt.plot(epochs, acc_values, 'bo', label='Training Acc')\n",
    "plt.plot(epochs, val_acc_values, 'b', label='Validation Acc')\n",
    "plt.title('Training and Validation Accuracy')\n",
    "plt.xlabel('epochs')\n",
    "plt.ylabel('Loss')\n",
    "plt.legend()\n",
    "\n",
    "plt.show()\n"
   ]
  },
  {
   "cell_type": "markdown",
   "id": "c55b56b6-61e1-41e0-a232-a18fbda30c10",
   "metadata": {},
   "source": [
    "\n",
    "## Notes on Training and Validation Visualization\n",
    "\n",
    "The training loss decreses with every epoch and the training accuracy increases with every epoch. Validation loss and accuracy reach a local maximum around the 4th epoch which is evidence of overfitting. The model has learned representations that are specific to the training data and do not generalize. \n",
    "\n",
    "We'll retrain a model from scratch and use four epochs, then evaluate the model on test data. \n"
   ]
  },
  {
   "cell_type": "code",
   "execution_count": 46,
   "id": "917c1aff-352a-4602-8ea4-91207293eb73",
   "metadata": {},
   "outputs": [
    {
     "name": "stdout",
     "output_type": "stream",
     "text": [
      "Epoch 1/4\n",
      "98/98 [==============================] - 0s 2ms/step - loss: 0.3767 - accuracy: 0.8540\n",
      "Epoch 2/4\n",
      "98/98 [==============================] - 0s 2ms/step - loss: 0.2112 - accuracy: 0.9240\n",
      "Epoch 3/4\n",
      "98/98 [==============================] - 0s 2ms/step - loss: 0.1672 - accuracy: 0.9420\n",
      "Epoch 4/4\n",
      "98/98 [==============================] - 0s 2ms/step - loss: 0.1383 - accuracy: 0.9512\n",
      "782/782 [==============================] - 0s 353us/step - loss: 1.8399 - accuracy: 0.5012\n"
     ]
    }
   ],
   "source": [
    "\n",
    "model = models.Sequential()\n",
    "\n",
    "model.add(layers.Dense(16, activation='tanh', input_shape=(10000,)))\n",
    "model.add(layers.Dense(8, activation='tanh'))\n",
    "model.add(layers.Dense(8, activation='tanh'))\n",
    "model.add(layers.Dense(1, activation='sigmoid'))\n",
    "\n",
    "model.compile(optimizer='rmsprop',\n",
    "              loss='binary_crossentropy',\n",
    "              metrics=['accuracy'])\n",
    "\n",
    "model.fit(x_train, y_train, epochs=4, batch_size=256)\n",
    "results = model.evaluate(x_test, y_test)\n"
   ]
  },
  {
   "cell_type": "code",
   "execution_count": 47,
   "id": "eec5fd62-d060-4fcd-a1a6-0b422340ab24",
   "metadata": {},
   "outputs": [
    {
     "data": {
      "text/plain": [
       "[1.8398704528808594, 0.5011600255966187]"
      ]
     },
     "execution_count": 47,
     "metadata": {},
     "output_type": "execute_result"
    }
   ],
   "source": [
    "results"
   ]
  },
  {
   "cell_type": "markdown",
   "id": "459771ad-cae7-44e3-805b-d33e89e3c841",
   "metadata": {},
   "source": [
    "\n",
    "## Use a Trained Network to Predict on New Data\n",
    "\n",
    "Having trained the network, a practical setting will ask you to predict data. Use the *predict* method to generate the likelihood of reviews being positive. \n"
   ]
  },
  {
   "cell_type": "code",
   "execution_count": 48,
   "id": "0e7f28ea-788c-43da-b1d5-5f41998bf56b",
   "metadata": {},
   "outputs": [
    {
     "name": "stdout",
     "output_type": "stream",
     "text": [
      "782/782 [==============================] - 0s 338us/step\n"
     ]
    },
    {
     "data": {
      "text/plain": [
       "array([[0.03101639],\n",
       "       [0.99146354],\n",
       "       [0.9462551 ],\n",
       "       ...,\n",
       "       [0.08422857],\n",
       "       [0.0265405 ],\n",
       "       [0.7679668 ]], dtype=float32)"
      ]
     },
     "execution_count": 48,
     "metadata": {},
     "output_type": "execute_result"
    }
   ],
   "source": [
    "\n",
    "model.predict(x_test)\n"
   ]
  },
  {
   "cell_type": "code",
   "execution_count": null,
   "id": "4f723f32-6847-4d69-bfff-06d7f4540879",
   "metadata": {},
   "outputs": [],
   "source": []
  }
 ],
 "metadata": {
  "kernelspec": {
   "display_name": "Python 3 (ipykernel)",
   "language": "python",
   "name": "python3"
  },
  "language_info": {
   "codemirror_mode": {
    "name": "ipython",
    "version": 3
   },
   "file_extension": ".py",
   "mimetype": "text/x-python",
   "name": "python",
   "nbconvert_exporter": "python",
   "pygments_lexer": "ipython3",
   "version": "3.11.7"
  }
 },
 "nbformat": 4,
 "nbformat_minor": 5
}
