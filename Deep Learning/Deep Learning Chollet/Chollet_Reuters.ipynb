{
 "cells": [
  {
   "cell_type": "markdown",
   "id": "b9c90da0-37a8-4473-92b5-e9a413d2b4a8",
   "metadata": {},
   "source": [
    "\n",
    "## Chollet: Classifying Newswires - Reuters Dataset\n"
   ]
  },
  {
   "cell_type": "code",
   "execution_count": 5,
   "id": "ace952c6-c2fa-4c89-9915-07633f2bd9fc",
   "metadata": {},
   "outputs": [],
   "source": [
    "\n",
    "from keras.datasets import reuters\n",
    "\n",
    "(train_data, train_labels), (test_data, test_labels) = reuters.load_data(num_words = 10000)\n",
    "\n",
    "word_index = reuters.get_word_index()\n",
    "\n",
    "reverse_word_index = dict([(value, key) for (key, value) in word_index.items()])\n",
    "\n",
    "decoded_newswire = ' '.join([reverse_word_index.get(i - 3, '?') for i in train_data[0]])\n"
   ]
  },
  {
   "cell_type": "code",
   "execution_count": 6,
   "id": "85e5fd59-8df1-4421-9856-719e46a88a24",
   "metadata": {},
   "outputs": [
    {
     "data": {
      "text/plain": [
       "3"
      ]
     },
     "execution_count": 6,
     "metadata": {},
     "output_type": "execute_result"
    }
   ],
   "source": [
    "\n",
    "train_labels[10]\n"
   ]
  },
  {
   "cell_type": "code",
   "execution_count": 7,
   "id": "77dc4c61-b7f5-4d30-bd3e-9b3076fe6165",
   "metadata": {},
   "outputs": [],
   "source": [
    "\n",
    "import numpy as np\n",
    "\n",
    "def vectorize_sequences(sequences, dimension=10000):\n",
    "    \n",
    "    results = np.zeros((len(sequences), dimension))\n",
    "\n",
    "    for i, sequence in enumerate(sequences):\n",
    "\n",
    "        results[i, sequence] = 1\n",
    "\n",
    "    return results\n"
   ]
  },
  {
   "cell_type": "code",
   "execution_count": 8,
   "id": "21467b63-d7bf-4511-ac83-f7084b0e43c5",
   "metadata": {},
   "outputs": [],
   "source": [
    "\n",
    "x_train = vectorize_sequences(train_data)\n",
    "\n",
    "x_test = vectorize_sequences(test_data)\n"
   ]
  },
  {
   "cell_type": "code",
   "execution_count": 10,
   "id": "8b41ac99-e33b-4095-9b03-bcd818da3bc9",
   "metadata": {},
   "outputs": [],
   "source": [
    "\n",
    "def to_one_hot(labels, dimension=46):\n",
    "\n",
    "    results = np.zeros((len(labels), dimension))\n",
    "\n",
    "    for i, label in enumerate(labels):\n",
    "\n",
    "        results[i, label] = 1\n",
    "\n",
    "    return results\n"
   ]
  },
  {
   "cell_type": "code",
   "execution_count": 11,
   "id": "2179372c-e2ed-45c6-8d7c-ab2ddb4d6d28",
   "metadata": {},
   "outputs": [],
   "source": [
    "\n",
    "one_hot_train_labels = to_one_hot(train_labels)\n",
    "\n",
    "one_hot_test_labels = to_one_hot(test_labels)\n",
    "\n"
   ]
  },
  {
   "cell_type": "code",
   "execution_count": 12,
   "id": "757356ec-2680-4c06-a6a1-fed2c8e95d1f",
   "metadata": {},
   "outputs": [],
   "source": [
    "\n",
    "from keras import models\n",
    "from keras import layers\n",
    "\n",
    "model = models.Sequential()\n",
    "\n",
    "model.add(layers.Dense(64, activation='relu', input_shape=(10000,)))\n",
    "model.add(layers.Dense(64, activation='relu'))\n",
    "model.add(layers.Dense(46, activation='softmax'))\n"
   ]
  },
  {
   "cell_type": "code",
   "execution_count": 13,
   "id": "38021413-74ef-415a-b3e2-74b2b7f1def2",
   "metadata": {},
   "outputs": [],
   "source": [
    "\n",
    "model.compile(optimizer='rmsprop',\n",
    "              loss='categorical_crossentropy',\n",
    "              metrics=['accuracy'])\n"
   ]
  },
  {
   "cell_type": "code",
   "execution_count": 17,
   "id": "04ad95c1-779f-46e5-8110-ffe76ad2a18f",
   "metadata": {},
   "outputs": [],
   "source": [
    "\n",
    "x_val = x_train[:1000]\n",
    "partial_x_train = x_train[1000:]\n",
    "\n",
    "y_val = one_hot_train_labels[:1000]\n",
    "partial_y_train = one_hot_train_labels[1000:]\n"
   ]
  },
  {
   "cell_type": "code",
   "execution_count": 18,
   "id": "1d6e2cb7-340f-43c0-8731-8726ec624b76",
   "metadata": {},
   "outputs": [
    {
     "name": "stdout",
     "output_type": "stream",
     "text": [
      "Epoch 1/20\n",
      "16/16 [==============================] - 0s 14ms/step - loss: 2.6116 - accuracy: 0.5313 - val_loss: 1.7013 - val_accuracy: 0.6610\n",
      "Epoch 2/20\n",
      "16/16 [==============================] - 0s 8ms/step - loss: 1.3938 - accuracy: 0.7102 - val_loss: 1.2841 - val_accuracy: 0.7250\n",
      "Epoch 3/20\n",
      "16/16 [==============================] - 0s 8ms/step - loss: 1.0338 - accuracy: 0.7849 - val_loss: 1.1176 - val_accuracy: 0.7580\n",
      "Epoch 4/20\n",
      "16/16 [==============================] - 0s 8ms/step - loss: 0.8156 - accuracy: 0.8280 - val_loss: 1.0270 - val_accuracy: 0.7850\n",
      "Epoch 5/20\n",
      "16/16 [==============================] - 0s 8ms/step - loss: 0.6510 - accuracy: 0.8651 - val_loss: 0.9728 - val_accuracy: 0.8000\n",
      "Epoch 6/20\n",
      "16/16 [==============================] - 0s 9ms/step - loss: 0.5249 - accuracy: 0.8915 - val_loss: 0.9895 - val_accuracy: 0.7850\n",
      "Epoch 7/20\n",
      "16/16 [==============================] - 0s 9ms/step - loss: 0.4301 - accuracy: 0.9116 - val_loss: 0.9375 - val_accuracy: 0.8030\n",
      "Epoch 8/20\n",
      "16/16 [==============================] - 0s 9ms/step - loss: 0.3496 - accuracy: 0.9280 - val_loss: 0.9150 - val_accuracy: 0.8130\n",
      "Epoch 9/20\n",
      "16/16 [==============================] - 0s 9ms/step - loss: 0.2898 - accuracy: 0.9391 - val_loss: 0.9192 - val_accuracy: 0.8090\n",
      "Epoch 10/20\n",
      "16/16 [==============================] - 0s 9ms/step - loss: 0.2479 - accuracy: 0.9439 - val_loss: 0.9023 - val_accuracy: 0.8180\n",
      "Epoch 11/20\n",
      "16/16 [==============================] - 0s 9ms/step - loss: 0.2110 - accuracy: 0.9484 - val_loss: 0.9799 - val_accuracy: 0.7990\n",
      "Epoch 12/20\n",
      "16/16 [==============================] - 0s 9ms/step - loss: 0.1884 - accuracy: 0.9513 - val_loss: 0.9531 - val_accuracy: 0.8210\n",
      "Epoch 13/20\n",
      "16/16 [==============================] - 0s 8ms/step - loss: 0.1706 - accuracy: 0.9521 - val_loss: 0.9528 - val_accuracy: 0.8200\n",
      "Epoch 14/20\n",
      "16/16 [==============================] - 0s 8ms/step - loss: 0.1524 - accuracy: 0.9551 - val_loss: 1.0002 - val_accuracy: 0.8080\n",
      "Epoch 15/20\n",
      "16/16 [==============================] - 0s 8ms/step - loss: 0.1420 - accuracy: 0.9555 - val_loss: 0.9642 - val_accuracy: 0.8150\n",
      "Epoch 16/20\n",
      "16/16 [==============================] - 0s 8ms/step - loss: 0.1319 - accuracy: 0.9560 - val_loss: 1.0421 - val_accuracy: 0.8210\n",
      "Epoch 17/20\n",
      "16/16 [==============================] - 0s 9ms/step - loss: 0.1286 - accuracy: 0.9574 - val_loss: 1.1428 - val_accuracy: 0.7880\n",
      "Epoch 18/20\n",
      "16/16 [==============================] - 0s 9ms/step - loss: 0.1202 - accuracy: 0.9572 - val_loss: 1.0191 - val_accuracy: 0.8150\n",
      "Epoch 19/20\n",
      "16/16 [==============================] - 0s 9ms/step - loss: 0.1173 - accuracy: 0.9574 - val_loss: 1.0712 - val_accuracy: 0.8120\n",
      "Epoch 20/20\n",
      "16/16 [==============================] - 0s 9ms/step - loss: 0.1114 - accuracy: 0.9583 - val_loss: 1.0908 - val_accuracy: 0.8010\n"
     ]
    }
   ],
   "source": [
    "\n",
    "history = model.fit(partial_x_train,\n",
    "                    partial_y_train,\n",
    "                    epochs=20,\n",
    "                    batch_size=512,\n",
    "                    validation_data=(x_val, y_val))\n"
   ]
  },
  {
   "cell_type": "code",
   "execution_count": 20,
   "id": "d68ffdd0-5785-4be6-8fe6-2737d00349c9",
   "metadata": {},
   "outputs": [
    {
     "data": {
      "image/png": "[encoded data removed]",
      "text/plain": [
       "<Figure size 640x480 with 1 Axes>"
      ]
     },
     "metadata": {},
     "output_type": "display_data"
    }
   ],
   "source": [
    "\n",
    "import matplotlib.pyplot as plt\n",
    "\n",
    "plt.clf()\n",
    "\n",
    "loss = history.history['loss']\n",
    "val_loss = history.history['val_loss']\n",
    "\n",
    "epochs = range(1, len(loss) + 1)\n",
    "\n",
    "plt.plot(epochs, loss, 'bo', label='Training Loss')\n",
    "plt.plot(epochs, val_loss, 'b', label='Validation Loss')\n",
    "plt.title('Training Loss versus Validation Loss')\n",
    "plt.xlabel('Epochs')\n",
    "plt.ylabel('Loss')\n",
    "plt.legend()\n",
    "\n",
    "plt.show()\n"
   ]
  },
  {
   "cell_type": "markdown",
   "id": "167394a6-69d6-4dea-9272-7a03ed2425c3",
   "metadata": {},
   "source": [
    "\n",
    "## Start a New NN\n",
    "\n",
    "This model begins to overfit after 9 epochs. in other words, addtional learning after 9 epochs learns patters exclusive to the test data. \n"
   ]
  },
  {
   "cell_type": "code",
   "execution_count": 22,
   "id": "2eee4d64-5c62-4f0d-b23a-4887a5f4b1d9",
   "metadata": {},
   "outputs": [
    {
     "name": "stdout",
     "output_type": "stream",
     "text": [
      "Epoch 1/9\n",
      "16/16 [==============================] - 0s 16ms/step - loss: 2.6104 - accuracy: 0.5104 - val_loss: 1.7331 - val_accuracy: 0.6310\n",
      "Epoch 2/9\n",
      "16/16 [==============================] - 0s 9ms/step - loss: 1.4293 - accuracy: 0.7011 - val_loss: 1.3282 - val_accuracy: 0.6990\n",
      "Epoch 3/9\n",
      "16/16 [==============================] - 0s 9ms/step - loss: 1.0660 - accuracy: 0.7732 - val_loss: 1.1609 - val_accuracy: 0.7410\n",
      "Epoch 4/9\n",
      "16/16 [==============================] - 0s 9ms/step - loss: 0.8380 - accuracy: 0.8234 - val_loss: 1.0335 - val_accuracy: 0.7780\n",
      "Epoch 5/9\n",
      "16/16 [==============================] - 0s 9ms/step - loss: 0.6687 - accuracy: 0.8564 - val_loss: 0.9790 - val_accuracy: 0.7880\n",
      "Epoch 6/9\n",
      "16/16 [==============================] - 0s 8ms/step - loss: 0.5289 - accuracy: 0.8874 - val_loss: 0.9221 - val_accuracy: 0.8090\n",
      "Epoch 7/9\n",
      "16/16 [==============================] - 0s 9ms/step - loss: 0.4189 - accuracy: 0.9143 - val_loss: 0.9095 - val_accuracy: 0.8120\n",
      "Epoch 8/9\n",
      "16/16 [==============================] - 0s 9ms/step - loss: 0.3392 - accuracy: 0.9288 - val_loss: 0.8978 - val_accuracy: 0.8200\n",
      "Epoch 9/9\n",
      "16/16 [==============================] - 0s 8ms/step - loss: 0.2781 - accuracy: 0.9395 - val_loss: 0.8772 - val_accuracy: 0.8240\n",
      "71/71 [==============================] - 0s 517us/step - loss: 0.9700 - accuracy: 0.7912\n"
     ]
    }
   ],
   "source": [
    "\n",
    "model = models.Sequential()\n",
    "\n",
    "model.add(layers.Dense(64, activation='relu', input_shape=(10000,)))\n",
    "model.add(layers.Dense(64, activation='relu'))\n",
    "model.add(layers.Dense(46, activation='softmax'))\n",
    "\n",
    "model.compile(optimizer='rmsprop', \n",
    "              loss='categorical_crossentropy',\n",
    "              metrics=['accuracy'])\n",
    "\n",
    "model.fit(partial_x_train,\n",
    "          partial_y_train,\n",
    "          epochs=9,\n",
    "          batch_size=512,\n",
    "          validation_data=(x_val, y_val))\n",
    "\n",
    "results = model.evaluate(x_test, one_hot_test_labels)\n"
   ]
  },
  {
   "cell_type": "code",
   "execution_count": 23,
   "id": "e33a7d62-54a1-497b-8ce5-934bb5bd10e3",
   "metadata": {},
   "outputs": [
    {
     "data": {
      "text/plain": [
       "[0.9699562191963196, 0.7911843061447144]"
      ]
     },
     "execution_count": 23,
     "metadata": {},
     "output_type": "execute_result"
    }
   ],
   "source": [
    "results"
   ]
  },
  {
   "cell_type": "markdown",
   "id": "c034ed2f-3341-4699-b1b2-ab0dbd1a2273",
   "metadata": {},
   "source": [
    "## Generate Predictions on New Data\n",
    "\n",
    "Since this model is successful at categorizing validation data, it should be able to categorize data it hasn't seen before. \n"
   ]
  },
  {
   "cell_type": "code",
   "execution_count": 24,
   "id": "ee2b57ea-33bd-406d-82cb-c3e25204a196",
   "metadata": {},
   "outputs": [
    {
     "name": "stdout",
     "output_type": "stream",
     "text": [
      "71/71 [==============================] - 0s 518us/step\n"
     ]
    }
   ],
   "source": [
    "\n",
    "predictions = model.predict(x_test)\n"
   ]
  },
  {
   "cell_type": "code",
   "execution_count": 25,
   "id": "3e222147-3a76-4f55-ba81-4a4088b18574",
   "metadata": {},
   "outputs": [
    {
     "data": {
      "text/plain": [
       "1.0000002"
      ]
     },
     "execution_count": 25,
     "metadata": {},
     "output_type": "execute_result"
    }
   ],
   "source": [
    "\n",
    "np.sum(predictions[0])\n"
   ]
  },
  {
   "cell_type": "code",
   "execution_count": 26,
   "id": "bf5b567c-d1bf-4e77-a692-f75dd1d2bcb9",
   "metadata": {},
   "outputs": [
    {
     "data": {
      "text/plain": [
       "3"
      ]
     },
     "execution_count": 26,
     "metadata": {},
     "output_type": "execute_result"
    }
   ],
   "source": [
    "\n",
    "np.argmax(predictions[0])\n"
   ]
  },
  {
   "cell_type": "code",
   "execution_count": null,
   "id": "0dcb06e8-53f0-4afe-a33d-c44205470aa1",
   "metadata": {},
   "outputs": [],
   "source": []
  }
 ],
 "metadata": {
  "kernelspec": {
   "display_name": "Python 3 (ipykernel)",
   "language": "python",
   "name": "python3"
  },
  "language_info": {
   "codemirror_mode": {
    "name": "ipython",
    "version": 3
   },
   "file_extension": ".py",
   "mimetype": "text/x-python",
   "name": "python",
   "nbconvert_exporter": "python",
   "pygments_lexer": "ipython3",
   "version": "3.11.7"
  }
 },
 "nbformat": 4,
 "nbformat_minor": 5
}
