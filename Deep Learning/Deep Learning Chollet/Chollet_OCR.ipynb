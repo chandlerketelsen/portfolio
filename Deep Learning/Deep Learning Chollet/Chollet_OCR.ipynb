{
 "cells": [
  {
   "cell_type": "markdown",
   "id": "52546478-8634-4cc6-9f6b-6b0b86348b49",
   "metadata": {},
   "source": [
    "# Chollet: Loading MNIST Handwriting for Deep Learning Experiment \n",
    "\n",
    "We're trying to classify grayscale images into one of ten categories, each corresponding to a base-10 digit. Keras includes MNIST handwritten digits which can be loaded as a set of four Numpy arrays. \n"
   ]
  },
  {
   "cell_type": "code",
   "execution_count": 1,
   "id": "cde0ac3b-921a-4d35-9857-2254d70b4b91",
   "metadata": {},
   "outputs": [],
   "source": [
    "\n",
    "from keras.datasets import mnist\n",
    "\n",
    "(train_images, train_labels), (test_images, test_labels) = mnist.load_data()\n"
   ]
  },
  {
   "cell_type": "code",
   "execution_count": 2,
   "id": "20c49fbc-6c9c-4f6c-877d-46418a7f1e8a",
   "metadata": {},
   "outputs": [
    {
     "data": {
      "text/plain": [
       "(60000, 28, 28)"
      ]
     },
     "execution_count": 2,
     "metadata": {},
     "output_type": "execute_result"
    }
   ],
   "source": [
    "\n",
    "train_images.shape\n"
   ]
  },
  {
   "cell_type": "code",
   "execution_count": 4,
   "id": "8d17cd85-e2a9-443f-afa0-058bb8b5d76a",
   "metadata": {},
   "outputs": [
    {
     "data": {
      "text/plain": [
       "array([7, 2, 1, ..., 4, 5, 6], dtype=uint8)"
      ]
     },
     "execution_count": 4,
     "metadata": {},
     "output_type": "execute_result"
    }
   ],
   "source": [
    "test_labels"
   ]
  },
  {
   "cell_type": "code",
   "execution_count": 5,
   "id": "c25dc9fd-3047-49f9-81fd-cfe99be3fd20",
   "metadata": {},
   "outputs": [],
   "source": [
    "\n",
    "from keras import models\n",
    "from keras import layers\n",
    "\n",
    "network = models.Sequential()\n",
    "network.add(layers.Dense(512, activation='relu', input_shape=(28*28,)))\n",
    "network.add(layers.Dense(10, activation='softmax'))\n",
    "\n",
    "\n"
   ]
  },
  {
   "cell_type": "code",
   "execution_count": 6,
   "id": "d5fd1d50-5944-43d6-a6c4-82ab52cb6545",
   "metadata": {},
   "outputs": [],
   "source": [
    "\n",
    "network.compile(optimizer='rmsprop',\n",
    "                loss='categorical_crossentropy',\n",
    "                metrics=['accuracy'])\n"
   ]
  },
  {
   "cell_type": "code",
   "execution_count": 8,
   "id": "3db20855-4e99-4f3b-9456-8554be20c889",
   "metadata": {},
   "outputs": [],
   "source": [
    "\n",
    "train_images = train_images.reshape((60000, 28*28))\n",
    "train_images = train_images.astype('float32') / 255\n",
    "\n",
    "test_images = test_images.reshape((10000, 28*28))\n",
    "test_images = test_images.astype('float32') / 255\n"
   ]
  },
  {
   "cell_type": "code",
   "execution_count": 9,
   "id": "622a112a-4c70-4f9e-bca0-3424afcdd66f",
   "metadata": {},
   "outputs": [],
   "source": [
    "\n",
    "from keras.utils import to_categorical\n",
    "\n",
    "train_labels = to_categorical(train_labels)\n",
    "test_labels = to_categorical(test_labels)\n"
   ]
  },
  {
   "cell_type": "code",
   "execution_count": 29,
   "id": "6d9c8da3-7b9e-4771-812a-c59edbf6260e",
   "metadata": {},
   "outputs": [
    {
     "name": "stdout",
     "output_type": "stream",
     "text": [
      "Epoch 1/2\n",
      "235/235 [==============================] - 1s 3ms/step - loss: 0.1850 - accuracy: 0.9473\n",
      "Epoch 2/2\n",
      "235/235 [==============================] - 1s 3ms/step - loss: 0.1797 - accuracy: 0.9494\n"
     ]
    },
    {
     "data": {
      "text/plain": [
       "<keras.src.callbacks.History at 0x3667fbfd0>"
      ]
     },
     "execution_count": 29,
     "metadata": {},
     "output_type": "execute_result"
    }
   ],
   "source": [
    "\n",
    "network.fit(train_images, train_labels, epochs=2, batch_size=256)\n"
   ]
  },
  {
   "cell_type": "code",
   "execution_count": 30,
   "id": "f82402c4-62c9-44f7-89ce-15a37e6fa1c6",
   "metadata": {},
   "outputs": [
    {
     "name": "stdout",
     "output_type": "stream",
     "text": [
      "313/313 [==============================] - 0s 506us/step - loss: 24.2055 - accuracy: 0.9270\n"
     ]
    }
   ],
   "source": [
    "\n",
    "test_loss, test_acc = network.evaluate(test_images, test_labels)\n"
   ]
  },
  {
   "cell_type": "code",
   "execution_count": 31,
   "id": "01c8b131-baf5-49b7-babd-56334df240ee",
   "metadata": {},
   "outputs": [
    {
     "name": "stdout",
     "output_type": "stream",
     "text": [
      "Test accuracy:  0.9269999861717224\n"
     ]
    }
   ],
   "source": [
    "print('Test accuracy: ', test_acc)"
   ]
  },
  {
   "cell_type": "code",
   "execution_count": null,
   "id": "4ceabfa6-df3f-45fa-88cf-4acd9c710525",
   "metadata": {},
   "outputs": [],
   "source": []
  }
 ],
 "metadata": {
  "kernelspec": {
   "display_name": "Python 3 (ipykernel)",
   "language": "python",
   "name": "python3"
  },
  "language_info": {
   "codemirror_mode": {
    "name": "ipython",
    "version": 3
   },
   "file_extension": ".py",
   "mimetype": "text/x-python",
   "name": "python",
   "nbconvert_exporter": "python",
   "pygments_lexer": "ipython3",
   "version": "3.11.7"
  }
 },
 "nbformat": 4,
 "nbformat_minor": 5
}
